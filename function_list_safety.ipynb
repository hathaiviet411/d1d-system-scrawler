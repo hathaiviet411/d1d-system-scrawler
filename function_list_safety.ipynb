{
 "cells": [
  {
   "cell_type": "code",
   "execution_count": 26,
   "metadata": {},
   "outputs": [],
   "source": [
    "from selenium import webdriver\n",
    "from selenium.webdriver.common.by import By\n",
    "from selenium.webdriver.common.keys import Keys\n",
    "from selenium.webdriver.common.action_chains import ActionChains\n",
    "import datetime\n",
    "from time import sleep"
   ]
  },
  {
   "cell_type": "code",
   "execution_count": 27,
   "metadata": {},
   "outputs": [],
   "source": [
    "# ----------------------- Start Scrapper -----------------------"
   ]
  },
  {
   "cell_type": "code",
   "execution_count": 28,
   "metadata": {},
   "outputs": [],
   "source": [
    "# Initialize Chrome\n",
    "driver = webdriver.Chrome()\n",
    "driver.maximize_window()\n",
    "driver.implicitly_wait(30)"
   ]
  },
  {
   "cell_type": "code",
   "execution_count": 29,
   "metadata": {},
   "outputs": [],
   "source": [
    "# Navigate to D1D system\n",
    "url = 'http://itpv2.transtron.fujitsu.com/'\n",
    "driver.get(url)"
   ]
  },
  {
   "cell_type": "code",
   "execution_count": 30,
   "metadata": {},
   "outputs": [],
   "source": [
    "# Fill login information\n",
    "sleep(1)\n",
    "input_field = driver.find_element(By.ID, 'userid')\n",
    "input_field.send_keys('izmb-free')\n",
    "\n",
    "password_field = driver.find_element(By.ID, 'password')\n",
    "password_field.send_keys('izumi001')"
   ]
  },
  {
   "cell_type": "code",
   "execution_count": 31,
   "metadata": {},
   "outputs": [],
   "source": [
    "# Login\n",
    "sleep(1)\n",
    "btn_login = driver.find_element(By.ID, 'login')\n",
    "btn_login.click()"
   ]
  },
  {
   "cell_type": "code",
   "execution_count": 32,
   "metadata": {},
   "outputs": [],
   "source": [
    "# Waiting the client loading\n",
    "sleep(60)"
   ]
  },
  {
   "cell_type": "code",
   "execution_count": 33,
   "metadata": {},
   "outputs": [],
   "source": [
    "def joinYMD(string):\n",
    "    year = string.split('-')[0]\n",
    "    month = string.split('-')[1]\n",
    "    day = string.split('-')[2]\n",
    "    return str(year) + '/' + str(month) + '/' + str(day)"
   ]
  },
  {
   "cell_type": "code",
   "execution_count": 34,
   "metadata": {},
   "outputs": [],
   "source": [
    "# Get yesterday\n",
    "today = datetime.date.today()\n",
    "yesterday = today - datetime.timedelta(days=1)"
   ]
  },
  {
   "cell_type": "code",
   "execution_count": 35,
   "metadata": {},
   "outputs": [],
   "source": [
    "# Transform the format of the scrap date\n",
    "scrapDataDate = joinYMD(str(yesterday))"
   ]
  },
  {
   "cell_type": "code",
   "execution_count": 36,
   "metadata": {},
   "outputs": [],
   "source": [
    "# Reset action\n",
    "def resetActionKey():\n",
    "    resetSpace =  driver.find_element(By.XPATH, '//*[@id=\"F04_mainview\"]/div[2]/div[1]')\n",
    "    resetSpace.click()"
   ]
  },
  {
   "cell_type": "code",
   "execution_count": 37,
   "metadata": {},
   "outputs": [],
   "source": [
    "# Open Menu\n",
    "sleep(1)\n",
    "btn_menu = driver.find_element(By.CLASS_NAME, 'b_btn-menu')\n",
    "btn_menu.click()"
   ]
  },
  {
   "cell_type": "code",
   "execution_count": 38,
   "metadata": {},
   "outputs": [],
   "source": [
    "# Hover Function List\n",
    "sleep(1)\n",
    "function_list = driver.find_element(By.ID, 'F100')\n",
    "hover = ActionChains(driver).move_to_element(function_list)\n",
    "hover.perform()"
   ]
  },
  {
   "cell_type": "code",
   "execution_count": 39,
   "metadata": {},
   "outputs": [],
   "source": [
    "# Open Safety Dropdown\n",
    "sleep(1)\n",
    "safety = driver.find_element(By.ID, 'F30')\n",
    "safety.click()"
   ]
  },
  {
   "cell_type": "code",
   "execution_count": 40,
   "metadata": {},
   "outputs": [],
   "source": [
    "sleep(1)\n",
    "safety_driving_ranking_report_for_posting = driver.find_element(By.ID, 'F33')\n",
    "safety_driving_ranking_report_for_posting.click()"
   ]
  },
  {
   "cell_type": "code",
   "execution_count": 41,
   "metadata": {},
   "outputs": [],
   "source": [
    "# Cancel button to ensure the menu is turn off\n",
    "sleep(10)\n",
    "resetActionKey()"
   ]
  },
  {
   "cell_type": "code",
   "execution_count": 42,
   "metadata": {},
   "outputs": [],
   "source": [
    "# Checkbox button\n",
    "sleep(5)\n",
    "checkbox = driver.find_element(By.XPATH, '//*[@id=\"F33_eigyousyoLevel_view\"]/li/div/span/div/div').click()"
   ]
  },
  {
   "cell_type": "code",
   "execution_count": null,
   "metadata": {},
   "outputs": [],
   "source": [
    "sleep(5)\n",
    "counting_period = driver.find_element(By.XPATH, '//*[@id=\"F33_article-setting\"]/p[3]/div')\n",
    "counting_period.click()"
   ]
  },
  {
   "cell_type": "code",
   "execution_count": null,
   "metadata": {},
   "outputs": [],
   "source": [
    "# Handle the Start Date\n",
    "sleep(1)\n",
    "inputStartDate = driver.find_element(By.ID, \"F33_StartDate\")\n",
    "inputStartDate.click()\n",
    "\n",
    "index = 0\n",
    "\n",
    "sleep(1)\n",
    "while index <= 2:\n",
    "    inputStartDate.send_keys(Keys.ARROW_RIGHT)\n",
    "    index += 1\n",
    "\n",
    "sleep(1)\n",
    "while index <= 12:\n",
    "    inputStartDate.send_keys(Keys.BACKSPACE)\n",
    "    index += 1\n",
    "\n",
    "inputStartDate.send_keys(scrapDataDate)\n",
    "\n",
    "sleep(2)\n",
    "resetActionKey()"
   ]
  },
  {
   "cell_type": "code",
   "execution_count": null,
   "metadata": {},
   "outputs": [],
   "source": [
    "# Handle the End Date\n",
    "sleep(1)\n",
    "inputEndDate = driver.find_element(By.ID, \"F33_EndDate\")\n",
    "inputEndDate.click()\n",
    "\n",
    "index = 0\n",
    "\n",
    "sleep(1)\n",
    "while index <= 2:\n",
    "    inputEndDate.send_keys(Keys.ARROW_RIGHT)\n",
    "    index += 1\n",
    "\n",
    "sleep(1)\n",
    "while index <= 12:\n",
    "    inputEndDate.send_keys(Keys.BACKSPACE)\n",
    "    index += 1\n",
    "\n",
    "inputEndDate.send_keys(scrapDataDate)\n",
    "\n",
    "sleep(2)\n",
    "resetActionKey()"
   ]
  },
  {
   "cell_type": "code",
   "execution_count": null,
   "metadata": {},
   "outputs": [],
   "source": [
    "# Dowload button\n",
    "sleep(2)\n",
    "driver.find_element(By.ID, 'F33_CSV_button').click()"
   ]
  },
  {
   "cell_type": "code",
   "execution_count": null,
   "metadata": {},
   "outputs": [],
   "source": [
    "# Waiting for the handling and dowload process\n",
    "sleep(60)"
   ]
  }
 ],
 "metadata": {
  "interpreter": {
   "hash": "7cec9ff813d324916502b577f120daa67d5c00aa44132d5e060520892a31b35b"
  },
  "kernelspec": {
   "display_name": "Python 3.10.0 64-bit",
   "language": "python",
   "name": "python3"
  },
  "language_info": {
   "codemirror_mode": {
    "name": "ipython",
    "version": 3
   },
   "file_extension": ".py",
   "mimetype": "text/x-python",
   "name": "python",
   "nbconvert_exporter": "python",
   "pygments_lexer": "ipython3",
   "version": "3.10.0"
  },
  "orig_nbformat": 4
 },
 "nbformat": 4,
 "nbformat_minor": 2
}
