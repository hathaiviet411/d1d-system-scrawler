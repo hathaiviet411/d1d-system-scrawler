{
 "cells": [
  {
   "cell_type": "code",
   "execution_count": null,
   "metadata": {},
   "outputs": [],
   "source": [
    "import schedule\n",
    "import time\n",
    "\n",
    "def schedule_scraper():\n",
    "    print('Executing...')\n",
    "\n",
    "schedule.every(10).minutes.do(schedule_scraper)\n",
    "schedule.every().hour.do(schedule_scraper)\n",
    "schedule.every().day.at(\"10:30\").do(schedule_scraper)\n",
    "schedule.every().monday.do(schedule_scraper)\n",
    "schedule.every().wednesday.at(\"13:15\").do(schedule_scraper)\n",
    "\n",
    "while True:\n",
    "    schedule.run_pending()"
   ]
  }
 ],
 "metadata": {
  "interpreter": {
   "hash": "7cec9ff813d324916502b577f120daa67d5c00aa44132d5e060520892a31b35b"
  },
  "kernelspec": {
   "display_name": "Python 3.10.0 64-bit",
   "language": "python",
   "name": "python3"
  },
  "language_info": {
   "codemirror_mode": {
    "name": "ipython",
    "version": 3
   },
   "file_extension": ".py",
   "mimetype": "text/x-python",
   "name": "python",
   "nbconvert_exporter": "python",
   "pygments_lexer": "ipython3",
   "version": "3.10.0"
  },
  "orig_nbformat": 4
 },
 "nbformat": 4,
 "nbformat_minor": 2
}
