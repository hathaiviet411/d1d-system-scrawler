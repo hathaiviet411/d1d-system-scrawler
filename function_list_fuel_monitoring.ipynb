{
 "cells": [
  {
   "cell_type": "code",
   "execution_count": 1,
   "metadata": {},
   "outputs": [],
   "source": [
    "from selenium import webdriver\n",
    "from selenium.webdriver.common.by import By\n",
    "from selenium.webdriver.common.keys import Keys\n",
    "from selenium.webdriver.common.action_chains import ActionChains\n",
    "import datetime\n",
    "from time import sleep\n",
    "from selenium.common.exceptions import NoSuchElementException"
   ]
  },
  {
   "cell_type": "code",
   "execution_count": 2,
   "metadata": {},
   "outputs": [],
   "source": [
    "# ----------------------- Start Scrapper -----------------------"
   ]
  },
  {
   "cell_type": "code",
   "execution_count": 3,
   "metadata": {},
   "outputs": [],
   "source": [
    "# Initialize Chrome\n",
    "driver = webdriver.Chrome()\n",
    "driver.maximize_window()\n",
    "driver.implicitly_wait(5)"
   ]
  },
  {
   "cell_type": "code",
   "execution_count": 4,
   "metadata": {},
   "outputs": [],
   "source": [
    "# Navigate to D1D system\n",
    "url = 'http://itpv2.transtron.fujitsu.com/'\n",
    "driver.get(url)"
   ]
  },
  {
   "cell_type": "code",
   "execution_count": 5,
   "metadata": {},
   "outputs": [],
   "source": [
    "# Fill login information\n",
    "sleep(1)\n",
    "input_field = driver.find_element(By.ID, 'userid')\n",
    "input_field.send_keys('izmb-free')\n",
    "\n",
    "password_field = driver.find_element(By.ID, 'password')\n",
    "password_field.send_keys('izumi001')"
   ]
  },
  {
   "cell_type": "code",
   "execution_count": 6,
   "metadata": {},
   "outputs": [],
   "source": [
    "# Login\n",
    "sleep(1)\n",
    "btn_login = driver.find_element(By.ID, 'login')\n",
    "btn_login.click()"
   ]
  },
  {
   "cell_type": "code",
   "execution_count": 7,
   "metadata": {},
   "outputs": [],
   "source": [
    "# Waiting the client loading\n",
    "sleep(60)"
   ]
  },
  {
   "cell_type": "code",
   "execution_count": 8,
   "metadata": {},
   "outputs": [],
   "source": [
    "def joinYMD(string):\n",
    "    year = string.split('-')[0]\n",
    "    month = string.split('-')[1]\n",
    "    day = string.split('-')[2]\n",
    "    return str(year) + '/' + str(month) + '/' + str(day)"
   ]
  },
  {
   "cell_type": "code",
   "execution_count": 9,
   "metadata": {},
   "outputs": [],
   "source": [
    "# Get yesterday\n",
    "today = datetime.date.today()\n",
    "yesterday = today - datetime.timedelta(days = 1)"
   ]
  },
  {
   "cell_type": "code",
   "execution_count": 10,
   "metadata": {},
   "outputs": [],
   "source": [
    "# Transform the format of the scrap date\n",
    "scrapDataDate = joinYMD(str(yesterday))"
   ]
  },
  {
   "cell_type": "code",
   "execution_count": 11,
   "metadata": {},
   "outputs": [],
   "source": [
    "# Reset action\n",
    "def resetActionKey():\n",
    "    resetSpace =  driver.find_element(By.XPATH, '//*[@id=\"F04_mainview\"]/div[2]/div[1]')\n",
    "    resetSpace.click()"
   ]
  },
  {
   "cell_type": "code",
   "execution_count": 12,
   "metadata": {},
   "outputs": [],
   "source": [
    "# Function to get the correct xpath of each calendar\n",
    "def getCurrentCalendarXPATH(calendar_id, year, month):\n",
    "    return \"//table[@id='\" + calendar_id + \"_calendar_start_\" + year + '_' + month + \"']//a\""
   ]
  },
  {
   "cell_type": "code",
   "execution_count": 63,
   "metadata": {},
   "outputs": [],
   "source": [
    "# Open Menu\n",
    "sleep(1)\n",
    "btn_menu = driver.find_element(By.CLASS_NAME, 'b_btn-menu')\n",
    "btn_menu.click()"
   ]
  },
  {
   "cell_type": "code",
   "execution_count": 64,
   "metadata": {},
   "outputs": [],
   "source": [
    "# Hover Function List\n",
    "sleep(1)\n",
    "function_list = driver.find_element(By.ID, 'F100')\n",
    "hover = ActionChains(driver).move_to_element(function_list)\n",
    "hover.perform()"
   ]
  },
  {
   "cell_type": "code",
   "execution_count": 65,
   "metadata": {},
   "outputs": [],
   "source": [
    "# Open Results Dropdown\n",
    "sleep(1)\n",
    "fuel_monitoring = driver.find_element(By.ID, 'FE0_dl')\n",
    "fuel_monitoring.click()"
   ]
  },
  {
   "cell_type": "code",
   "execution_count": 66,
   "metadata": {},
   "outputs": [],
   "source": [
    "sleep(1)\n",
    "乗務員別燃費集計表 = driver.find_element(By.ID, 'FE4').click()"
   ]
  },
  {
   "cell_type": "code",
   "execution_count": 67,
   "metadata": {},
   "outputs": [],
   "source": [
    "# Cancel button to ensure the menu is turn off\n",
    "sleep(10)\n",
    "resetActionKey()"
   ]
  },
  {
   "cell_type": "code",
   "execution_count": 68,
   "metadata": {},
   "outputs": [],
   "source": [
    "# Checkbox button\n",
    "sleep(5)\n",
    "driver.find_element(By.XPATH, '//*[@id=\"FE4_eigyousyoLevel_view\"]/li/div/span/div').click()"
   ]
  },
  {
   "cell_type": "code",
   "execution_count": 69,
   "metadata": {},
   "outputs": [],
   "source": [
    "# Handle the Start Date\n",
    "sleep(1)\n",
    "inputStartDate = driver.find_element(By.ID, \"FE4_from\")\n",
    "inputStartDate.click()\n",
    "\n",
    "index = 0\n",
    "\n",
    "sleep(1)\n",
    "while index <= 2:\n",
    "    inputStartDate.send_keys(Keys.ARROW_RIGHT)\n",
    "    index += 1\n",
    "\n",
    "sleep(1)\n",
    "while index <= 12:\n",
    "    inputStartDate.send_keys(Keys.BACKSPACE)\n",
    "    index += 1\n",
    "\n",
    "inputStartDate.send_keys(scrapDataDate)\n",
    "\n",
    "sleep(2)\n",
    "resetActionKey()"
   ]
  },
  {
   "cell_type": "code",
   "execution_count": 70,
   "metadata": {},
   "outputs": [],
   "source": [
    "# Handle the End Date\n",
    "sleep(1)\n",
    "inputEndDate = driver.find_element(By.ID, \"FE4_to\")\n",
    "inputEndDate.click()\n",
    "\n",
    "index = 0\n",
    "\n",
    "sleep(1)\n",
    "while index <= 2:\n",
    "    inputEndDate.send_keys(Keys.ARROW_RIGHT)\n",
    "    index += 1\n",
    "\n",
    "sleep(1)\n",
    "while index <= 12:\n",
    "    inputEndDate.send_keys(Keys.BACKSPACE)\n",
    "    index += 1\n",
    "\n",
    "inputEndDate.send_keys(scrapDataDate)\n",
    "\n",
    "sleep(2)\n",
    "resetActionKey()"
   ]
  },
  {
   "cell_type": "code",
   "execution_count": 71,
   "metadata": {},
   "outputs": [],
   "source": [
    "# Dowload button\n",
    "sleep(2)\n",
    "buttonDownload = driver.find_element(By.ID, 'FE4_csvout_button').click()"
   ]
  },
  {
   "cell_type": "code",
   "execution_count": null,
   "metadata": {},
   "outputs": [],
   "source": [
    "sleep(60)"
   ]
  },
  {
   "cell_type": "code",
   "execution_count": null,
   "metadata": {},
   "outputs": [],
   "source": [
    "existExceptionBox = True\n",
    "\n",
    "try:\n",
    "    exception_box = driver.find_element(By.ID, 'function_window_FE4_messagebox_0')\n",
    "except NoSuchElementException:\n",
    "    existExceptionBox = False\n",
    "\n",
    "print(existExceptionBox)\n",
    "\n",
    "if existExceptionBox == True:\n",
    "    driver.find_element(By.ID, 'msg_confirm').click()\n",
    "elif existExceptionBox == False:\n",
    "    buttonDownload = driver.find_element(By.ID, 'FE4_csvout_button').click()"
   ]
  },
  {
   "cell_type": "code",
   "execution_count": null,
   "metadata": {},
   "outputs": [],
   "source": [
    "# Waiting for the handling and dowload process\n",
    "sleep(60)"
   ]
  }
 ],
 "metadata": {
  "interpreter": {
   "hash": "7cec9ff813d324916502b577f120daa67d5c00aa44132d5e060520892a31b35b"
  },
  "kernelspec": {
   "display_name": "Python 3.10.0 64-bit",
   "language": "python",
   "name": "python3"
  },
  "language_info": {
   "codemirror_mode": {
    "name": "ipython",
    "version": 3
   },
   "file_extension": ".py",
   "mimetype": "text/x-python",
   "name": "python",
   "nbconvert_exporter": "python",
   "pygments_lexer": "ipython3",
   "version": "3.10.0"
  },
  "orig_nbformat": 4
 },
 "nbformat": 4,
 "nbformat_minor": 2
}
