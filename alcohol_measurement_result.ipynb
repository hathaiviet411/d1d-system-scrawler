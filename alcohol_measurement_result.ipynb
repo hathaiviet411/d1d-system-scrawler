{
 "cells": [
  {
   "cell_type": "code",
   "execution_count": 1,
   "metadata": {},
   "outputs": [],
   "source": [
    "from selenium import webdriver\n",
    "from selenium.webdriver.common.by import By\n",
    "from selenium.webdriver.common.keys import Keys\n",
    "from selenium.webdriver.common.action_chains import ActionChains\n",
    "import datetime\n",
    "from time import sleep\n",
    "import calendar\n",
    "from selenium.webdriver.support.ui import Select\n",
    "import time\n",
    "from selenium.common.exceptions import NoSuchElementException"
   ]
  },
  {
   "cell_type": "code",
   "execution_count": 2,
   "metadata": {},
   "outputs": [],
   "source": [
    "# ----------------------- Start Scrapper -----------------------"
   ]
  },
  {
   "cell_type": "code",
   "execution_count": 3,
   "metadata": {},
   "outputs": [],
   "source": [
    "# Initialize Chrome\n",
    "driver = webdriver.Chrome()\n",
    "driver.maximize_window()\n",
    "driver.implicitly_wait(10)"
   ]
  },
  {
   "cell_type": "code",
   "execution_count": 4,
   "metadata": {},
   "outputs": [],
   "source": [
    "# Navigate to D1D system\n",
    "url = 'http://itpv2.transtron.fujitsu.com/'\n",
    "driver.get(url)"
   ]
  },
  {
   "cell_type": "code",
   "execution_count": 5,
   "metadata": {},
   "outputs": [],
   "source": [
    "# Fill login information\n",
    "sleep(1)\n",
    "input_field = driver.find_element(By.ID, 'userid')\n",
    "input_field.send_keys('izmb-free')\n",
    "\n",
    "password_field = driver.find_element(By.ID, 'password')\n",
    "password_field.send_keys('izumi001')"
   ]
  },
  {
   "cell_type": "code",
   "execution_count": 6,
   "metadata": {},
   "outputs": [],
   "source": [
    "# Login\n",
    "sleep(1)\n",
    "btn_login = driver.find_element(By.ID, 'login')\n",
    "btn_login.click()"
   ]
  },
  {
   "cell_type": "code",
   "execution_count": 7,
   "metadata": {},
   "outputs": [],
   "source": [
    "# Waiting the client loading\n",
    "sleep(60)"
   ]
  },
  {
   "cell_type": "code",
   "execution_count": 8,
   "metadata": {},
   "outputs": [],
   "source": [
    "def joinYMD(string):\n",
    "    year = string.split('-')[0]\n",
    "    month = string.split('-')[1]\n",
    "    day = string.split('-')[2]\n",
    "    return str(year) + '/' + str(month) + '/' + str(day)"
   ]
  },
  {
   "cell_type": "code",
   "execution_count": 9,
   "metadata": {},
   "outputs": [],
   "source": [
    "# Get yesterday\n",
    "today = datetime.date.today()\n",
    "yesterday = today - datetime.timedelta(days=1)"
   ]
  },
  {
   "cell_type": "code",
   "execution_count": 10,
   "metadata": {},
   "outputs": [],
   "source": [
    "# Transform the format of the scrap date\n",
    "scrapDataDate = joinYMD(str(yesterday))"
   ]
  },
  {
   "cell_type": "code",
   "execution_count": 11,
   "metadata": {},
   "outputs": [],
   "source": [
    "# Reset action\n",
    "def resetActionKey():\n",
    "    resetSpace =  driver.find_element(By.XPATH, '//*[@id=\"F04_mainview\"]/div[2]/div[1]')\n",
    "    resetSpace.click()"
   ]
  },
  {
   "cell_type": "code",
   "execution_count": 12,
   "metadata": {},
   "outputs": [],
   "source": [
    "# Function to get the correct xpath of each calendar\n",
    "def getCurrentCalendarXPATH(calendar_id, year, month):\n",
    "    return \"//table[@id='\" + calendar_id + \"_calendar_start_\" + year + '_' + month + \"']//a\""
   ]
  },
  {
   "cell_type": "code",
   "execution_count": 13,
   "metadata": {},
   "outputs": [],
   "source": [
    "# Open Menu\n",
    "sleep(1)\n",
    "btn_menu = driver.find_element(By.CLASS_NAME, 'b_btn-menu')\n",
    "btn_menu.click()"
   ]
  },
  {
   "cell_type": "code",
   "execution_count": 14,
   "metadata": {},
   "outputs": [],
   "source": [
    "# Hover Daily Report\n",
    "sleep(1)\n",
    "daily_report = driver.find_element(By.ID, 'F20')\n",
    "hover = ActionChains(driver).move_to_element(daily_report)\n",
    "hover.perform()"
   ]
  },
  {
   "cell_type": "code",
   "execution_count": 15,
   "metadata": {},
   "outputs": [],
   "source": [
    "# Navigate to Alcohol Measurement Result\n",
    "sleep(1)\n",
    "alcohol_measurement_result = driver.find_element(By.XPATH, '//*[@id=\"F25\"]')\n",
    "alcohol_measurement_result.click()"
   ]
  },
  {
   "cell_type": "code",
   "execution_count": 16,
   "metadata": {},
   "outputs": [],
   "source": [
    "# Cancel button to ensure the menu is turn off\n",
    "sleep(5)\n",
    "resetActionKey()"
   ]
  },
  {
   "cell_type": "code",
   "execution_count": 17,
   "metadata": {},
   "outputs": [],
   "source": [
    "# Select department\n",
    "sleep(1)\n",
    "select_department = driver.find_element(By.ID, 'F25eigyousyo_list')\n",
    "select_department.click()\n",
    "sleep(1)\n",
    "driver.find_element(By.XPATH, '//*[@id=\"F25eigyousyo_list\"]/option[2]').click()\n",
    "\n",
    "# Handle the scrapper date - should be yester day of today\n",
    "# Start date\n",
    "start_date = driver.find_element(By.ID, 'F25_StartDate')\n",
    "start_date.click()\n",
    "\n",
    "index = 0\n",
    "\n",
    "sleep(1)\n",
    "while index <= 2:\n",
    "    start_date.send_keys(Keys.ARROW_RIGHT)\n",
    "    index += 1\n",
    "\n",
    "sleep(1)\n",
    "while index <= 12:\n",
    "    start_date.send_keys(Keys.BACKSPACE)\n",
    "    index += 1\n",
    "\n",
    "start_date.send_keys(scrapDataDate)\n",
    "\n",
    "sleep(1)\n",
    "resetActionKey()\n",
    "\n",
    "# End date\n",
    "end_date = driver.find_element(By.ID, 'F25_EndDate')\n",
    "end_date.click()\n",
    "\n",
    "index = 0\n",
    "\n",
    "while index <= 2:\n",
    "    end_date.send_keys(Keys.ARROW_RIGHT)\n",
    "    index += 1\n",
    "\n",
    "while index <= 12:\n",
    "    end_date.send_keys(Keys.BACKSPACE)\n",
    "    index += 1\n",
    "\n",
    "end_date.send_keys(scrapDataDate)\n",
    "\n",
    "sleep(1)\n",
    "resetActionKey()\n",
    "\n",
    "sleep(1)\n",
    "resetActionKey()"
   ]
  },
  {
   "cell_type": "code",
   "execution_count": 18,
   "metadata": {},
   "outputs": [
    {
     "name": "stdout",
     "output_type": "stream",
     "text": [
      "Processing department: 横浜第１チーム\n",
      "Department: 横浜第１チーム proceed successfully !\n",
      "--------------------------------------------------------------\n",
      "Processing department: 横浜第２チーム\n",
      "Department: 横浜第２チーム have no data, passed !\n",
      "--------------------------------------------------------------\n",
      "Processing department: 平塚チーム\n",
      "Department: 平塚チーム have no data, passed !\n",
      "--------------------------------------------------------------\n",
      "Processing department: 平塚パスコチーム\n",
      "Department: 平塚パスコチーム have no data, passed !\n",
      "--------------------------------------------------------------\n",
      "Processing department: 静岡チーム\n",
      "Department: 静岡チーム have no data, passed !\n",
      "--------------------------------------------------------------\n",
      "Processing department: 横浜第２、第３チーム\n",
      "Department: 横浜第２、第３チーム proceed successfully !\n",
      "--------------------------------------------------------------\n",
      "Processing department: 三芳チーム\n",
      "Department: 三芳チーム proceed successfully !\n",
      "--------------------------------------------------------------\n",
      "Processing department: 東京チーム\n",
      "Department: 東京チーム have no data, passed !\n",
      "--------------------------------------------------------------\n",
      "Processing department: 八千代チーム\n",
      "Department: 八千代チーム proceed successfully !\n",
      "--------------------------------------------------------------\n",
      "Processing department: 武蔵野チーム\n",
      "Department: 武蔵野チーム have no data, passed !\n",
      "--------------------------------------------------------------\n",
      "Processing department: 埼玉チーム\n",
      "Department: 埼玉チーム have no data, passed !\n",
      "--------------------------------------------------------------\n",
      "Processing department: 千葉チーム\n",
      "Department: 千葉チーム have no data, passed !\n",
      "--------------------------------------------------------------\n",
      "Processing department: 古河チーム\n",
      "Department: 古河チーム proceed successfully !\n",
      "--------------------------------------------------------------\n",
      "Processing department: 西那須チーム\n",
      "Department: 西那須チーム have no data, passed !\n",
      "--------------------------------------------------------------\n",
      "Processing department: 名古屋チーム(車両なし)\n",
      "Department: 名古屋チーム(車両なし) have no data, passed !\n",
      "--------------------------------------------------------------\n",
      "Processing department: 名古屋チーム\n",
      "Department: 名古屋チーム proceed successfully !\n",
      "--------------------------------------------------------------\n",
      "Processing department: 安城チーム\n",
      "Department: 安城チーム have no data, passed !\n",
      "--------------------------------------------------------------\n",
      "Processing department: 浜松チーム\n",
      "Department: 浜松チーム have no data, passed !\n",
      "--------------------------------------------------------------\n",
      "Processing department: 富山チーム\n",
      "Department: 富山チーム proceed successfully !\n",
      "--------------------------------------------------------------\n",
      "Processing department: 新潟チーム\n",
      "Department: 新潟チーム proceed successfully !\n",
      "--------------------------------------------------------------\n",
      "Processing department: 大阪チーム\n",
      "Department: 大阪チーム proceed successfully !\n",
      "--------------------------------------------------------------\n",
      "Processing department: 神戸チーム\n",
      "Department: 神戸チーム proceed successfully !\n",
      "--------------------------------------------------------------\n",
      "----------------------------- END SCRAPPER -----------------------------\n"
     ]
    }
   ],
   "source": [
    "# Options in the select department\n",
    "sleep(1)\n",
    "options = [item for item in select_department.find_elements(By.TAG_NAME, 'option')]\n",
    "del options[0]\n",
    "\n",
    "count = 0\n",
    "existMessageBox = True\n",
    "\n",
    "for element in (options):\n",
    "    print('Processing department: ' + str(element.text))\n",
    "    element.click()\n",
    "\n",
    "    # Check if the selected department have data or not\n",
    "    try:\n",
    "        noDataNotifyModal = driver.find_element(By.ID, 'function_window_F25_messagebox_0')\n",
    "    except NoSuchElementException:\n",
    "        existMessageBox = False\n",
    "\n",
    "    # If the selected departsment have data then download the data\n",
    "    # otherwise, click on the OK button to turn off the modal \n",
    "    if existMessageBox == True:\n",
    "        driver.find_element(By.ID, 'msg_confirm').click()\n",
    "    elif existMessageBox == False:\n",
    "        driver.find_element(By.ID, 'P25_csvout_button').click()\n",
    "\n",
    "    if existMessageBox == True:\n",
    "        print('Department: ' + element.text + ' have no data, passed !')\n",
    "    else:\n",
    "        print('Department: ' + element.text + ' proceed successfully !')\n",
    "        \n",
    "    print('--------------------------------------------------------------')\n",
    "    existMessageBox = True\n",
    "    sleep(2)\n",
    "    count += 1\n",
    "\n",
    "print('------------------------ END SCRAPPER ------------------------')"
   ]
  },
  {
   "cell_type": "markdown",
   "metadata": {},
   "source": []
  }
 ],
 "metadata": {
  "interpreter": {
   "hash": "7cec9ff813d324916502b577f120daa67d5c00aa44132d5e060520892a31b35b"
  },
  "kernelspec": {
   "display_name": "Python 3.10.0 64-bit",
   "language": "python",
   "name": "python3"
  },
  "language_info": {
   "codemirror_mode": {
    "name": "ipython",
    "version": 3
   },
   "file_extension": ".py",
   "mimetype": "text/x-python",
   "name": "python",
   "nbconvert_exporter": "python",
   "pygments_lexer": "ipython3",
   "version": "3.10.0"
  },
  "orig_nbformat": 4
 },
 "nbformat": 4,
 "nbformat_minor": 2
}
