{
 "cells": [
  {
   "cell_type": "code",
   "execution_count": 15,
   "metadata": {},
   "outputs": [],
   "source": [
    "from selenium import webdriver\n",
    "from selenium.webdriver.common.by import By\n",
    "from selenium.webdriver.common.keys import Keys\n",
    "from selenium.webdriver.common.action_chains import ActionChains\n",
    "import datetime\n",
    "from time import sleep\n",
    "from selenium.common.exceptions import NoSuchElementException"
   ]
  },
  {
   "cell_type": "code",
   "execution_count": 16,
   "metadata": {},
   "outputs": [],
   "source": [
    "# ----------------------- Start Scrapper -----------------------"
   ]
  },
  {
   "cell_type": "code",
   "execution_count": 17,
   "metadata": {},
   "outputs": [],
   "source": [
    "# Initialize Chrome\n",
    "driver = webdriver.Chrome()\n",
    "driver.maximize_window()\n",
    "driver.implicitly_wait(5)"
   ]
  },
  {
   "cell_type": "code",
   "execution_count": 18,
   "metadata": {},
   "outputs": [],
   "source": [
    "# Navigate to D1D system\n",
    "url = 'http://itpv2.transtron.fujitsu.com/'\n",
    "driver.get(url)"
   ]
  },
  {
   "cell_type": "code",
   "execution_count": 19,
   "metadata": {},
   "outputs": [],
   "source": [
    "# Fill login information\n",
    "sleep(1)\n",
    "input_field = driver.find_element(By.ID, 'userid')\n",
    "input_field.send_keys('izmb-free')\n",
    "\n",
    "password_field = driver.find_element(By.ID, 'password')\n",
    "password_field.send_keys('izumi001')"
   ]
  },
  {
   "cell_type": "code",
   "execution_count": 20,
   "metadata": {},
   "outputs": [],
   "source": [
    "# Login\n",
    "sleep(1)\n",
    "btn_login = driver.find_element(By.ID, 'login')\n",
    "btn_login.click()"
   ]
  },
  {
   "cell_type": "code",
   "execution_count": 21,
   "metadata": {},
   "outputs": [],
   "source": [
    "# Waiting the client loading\n",
    "sleep(60)"
   ]
  },
  {
   "cell_type": "code",
   "execution_count": 22,
   "metadata": {},
   "outputs": [],
   "source": [
    "def joinYMD(string):\n",
    "    year = string.split('-')[0]\n",
    "    month = string.split('-')[1]\n",
    "    day = string.split('-')[2]\n",
    "    return str(year) + '/' + str(month) + '/' + str(day)"
   ]
  },
  {
   "cell_type": "code",
   "execution_count": 23,
   "metadata": {},
   "outputs": [],
   "source": [
    "# Get yesterday\n",
    "today = datetime.date.today()\n",
    "yesterday = today - datetime.timedelta(days = 1)"
   ]
  },
  {
   "cell_type": "code",
   "execution_count": 24,
   "metadata": {},
   "outputs": [],
   "source": [
    "class color:\n",
    "    SUCCESS = '\\033[92m'\n",
    "    WARNING = '\\033[93m'\n",
    "    FAIL = '\\033[91m'"
   ]
  },
  {
   "cell_type": "code",
   "execution_count": 25,
   "metadata": {},
   "outputs": [],
   "source": [
    "# Transform the format of the scrap date\n",
    "scrapDataDate = joinYMD(str(yesterday))"
   ]
  },
  {
   "cell_type": "code",
   "execution_count": 26,
   "metadata": {},
   "outputs": [],
   "source": [
    "# Reset action\n",
    "def resetActionKey():\n",
    "    resetSpace =  driver.find_element(By.XPATH, '//*[@id=\"F04_mainview\"]/div[2]/div[1]')\n",
    "    resetSpace.click()"
   ]
  },
  {
   "cell_type": "code",
   "execution_count": 27,
   "metadata": {},
   "outputs": [],
   "source": [
    "# Function to get the correct xpath of each calendar\n",
    "def getCurrentCalendarXPATH(calendar_id, year, month):\n",
    "    return \"//table[@id='\" + calendar_id + \"_calendar_start_\" + year + '_' + month + \"']//a\""
   ]
  },
  {
   "cell_type": "code",
   "execution_count": 28,
   "metadata": {},
   "outputs": [],
   "source": [
    "# Open Menu\n",
    "sleep(1)\n",
    "btn_menu = driver.find_element(By.CLASS_NAME, 'b_btn-menu')\n",
    "btn_menu.click()"
   ]
  },
  {
   "cell_type": "code",
   "execution_count": 29,
   "metadata": {},
   "outputs": [],
   "source": [
    "# Hover Daily Report\n",
    "sleep(1)\n",
    "daily_report = driver.find_element(By.ID, 'F20')\n",
    "hover = ActionChains(driver).move_to_element(daily_report)\n",
    "hover.perform()"
   ]
  },
  {
   "cell_type": "code",
   "execution_count": 30,
   "metadata": {},
   "outputs": [],
   "source": [
    "# Navigate to Alcohol Measurement Result\n",
    "sleep(1)\n",
    "alcohol_measurement_result = driver.find_element(By.XPATH, '//*[@id=\"F25\"]')\n",
    "alcohol_measurement_result.click()"
   ]
  },
  {
   "cell_type": "code",
   "execution_count": 31,
   "metadata": {},
   "outputs": [],
   "source": [
    "# Cancel button to ensure the menu is turn off\n",
    "# index = 10\n",
    "# while 0 <= index:\n",
    "#     driver.find_element(By.XPATH, '//*[@id=\"F04_mainview\"]/div[2]/div[1]/table/tbody/tr[1]/td[2]/span[2]').click()\n",
    "#     sleep(1)\n",
    "#     index -= 1"
   ]
  },
  {
   "cell_type": "code",
   "execution_count": 32,
   "metadata": {},
   "outputs": [],
   "source": [
    "# Select department\n",
    "sleep(1)\n",
    "select_department = driver.find_element(By.ID, 'F25eigyousyo_list')\n",
    "select_department.click()\n",
    "sleep(1)\n",
    "driver.find_element(By.XPATH, '//*[@id=\"F25eigyousyo_list\"]/option[2]').click()\n",
    "\n",
    "# Handle the scrapper date - should be yester day of today\n",
    "# Start date\n",
    "sleep(10)\n",
    "select_department.click()\n",
    "sleep(1)\n",
    "start_date = driver.find_element(By.ID, 'F25_StartDate')\n",
    "start_date.click()\n",
    "\n",
    "index = 0\n",
    "\n",
    "# When focus in the input of rhe calendar, the cursor is placed at the last 2 to the right\n",
    "# need to move 2 steps further to move the cursor to the max right\n",
    "sleep(1)\n",
    "while index <= 2:\n",
    "    start_date.send_keys(Keys.ARROW_RIGHT)\n",
    "    index += 1\n",
    "\n",
    "sleep(1)\n",
    "while index <= 12:\n",
    "    start_date.send_keys(Keys.BACKSPACE)\n",
    "    index += 1\n",
    "\n",
    "start_date.send_keys(scrapDataDate)\n",
    "\n",
    "sleep(1)\n",
    "resetActionKey()\n",
    "\n",
    "# End date\n",
    "end_date = driver.find_element(By.ID, 'F25_EndDate')\n",
    "end_date.click()\n",
    "\n",
    "index = 0\n",
    "\n",
    "while index <= 2:\n",
    "    end_date.send_keys(Keys.ARROW_RIGHT)\n",
    "    index += 1\n",
    "\n",
    "while index <= 12:\n",
    "    end_date.send_keys(Keys.BACKSPACE)\n",
    "    index += 1\n",
    "\n",
    "end_date.send_keys(scrapDataDate)\n",
    "\n",
    "sleep(1)\n",
    "resetActionKey()"
   ]
  },
  {
   "cell_type": "code",
   "execution_count": 33,
   "metadata": {},
   "outputs": [
    {
     "name": "stdout",
     "output_type": "stream",
     "text": [
      "\u001b[93mProcessing department: 横浜第１チーム\n",
      "\u001b[92mDepartment: 横浜第１チーム proceed successfully !\n",
      "--------------------------------------------------------------\n",
      "\u001b[93mProcessing department: 横浜第２チーム\n",
      "\u001b[91mDepartment: 横浜第２チーム have no data, passed !\n",
      "--------------------------------------------------------------\n",
      "\u001b[93mProcessing department: 平塚チーム\n",
      "\u001b[91mDepartment: 平塚チーム have no data, passed !\n",
      "--------------------------------------------------------------\n",
      "\u001b[93mProcessing department: 平塚パスコチーム\n",
      "\u001b[91mDepartment: 平塚パスコチーム have no data, passed !\n",
      "--------------------------------------------------------------\n",
      "\u001b[93mProcessing department: 静岡チーム\n",
      "\u001b[91mDepartment: 静岡チーム have no data, passed !\n",
      "--------------------------------------------------------------\n",
      "\u001b[93mProcessing department: 横浜第２、第３チーム\n",
      "\u001b[92mDepartment: 横浜第２、第３チーム proceed successfully !\n",
      "--------------------------------------------------------------\n",
      "\u001b[93mProcessing department: 三芳チーム\n",
      "\u001b[92mDepartment: 三芳チーム proceed successfully !\n",
      "--------------------------------------------------------------\n",
      "\u001b[93mProcessing department: 東京チーム\n",
      "\u001b[91mDepartment: 東京チーム have no data, passed !\n",
      "--------------------------------------------------------------\n",
      "\u001b[93mProcessing department: 八千代チーム\n",
      "\u001b[92mDepartment: 八千代チーム proceed successfully !\n",
      "--------------------------------------------------------------\n",
      "\u001b[93mProcessing department: 武蔵野チーム\n",
      "\u001b[91mDepartment: 武蔵野チーム have no data, passed !\n",
      "--------------------------------------------------------------\n",
      "\u001b[93mProcessing department: 埼玉チーム\n",
      "\u001b[91mDepartment: 埼玉チーム have no data, passed !\n",
      "--------------------------------------------------------------\n",
      "\u001b[93mProcessing department: 千葉チーム\n",
      "\u001b[91mDepartment: 千葉チーム have no data, passed !\n",
      "--------------------------------------------------------------\n",
      "\u001b[93mProcessing department: 古河チーム\n",
      "\u001b[92mDepartment: 古河チーム proceed successfully !\n",
      "--------------------------------------------------------------\n",
      "\u001b[93mProcessing department: 西那須チーム\n",
      "\u001b[91mDepartment: 西那須チーム have no data, passed !\n",
      "--------------------------------------------------------------\n",
      "\u001b[93mProcessing department: 名古屋チーム(車両なし)\n",
      "\u001b[91mDepartment: 名古屋チーム(車両なし) have no data, passed !\n",
      "--------------------------------------------------------------\n",
      "\u001b[93mProcessing department: 名古屋チーム\n",
      "\u001b[92mDepartment: 名古屋チーム proceed successfully !\n",
      "--------------------------------------------------------------\n",
      "\u001b[93mProcessing department: 安城チーム\n",
      "\u001b[91mDepartment: 安城チーム have no data, passed !\n",
      "--------------------------------------------------------------\n",
      "\u001b[93mProcessing department: 浜松チーム\n",
      "\u001b[91mDepartment: 浜松チーム have no data, passed !\n",
      "--------------------------------------------------------------\n",
      "\u001b[93mProcessing department: 富山チーム\n",
      "\u001b[92mDepartment: 富山チーム proceed successfully !\n",
      "--------------------------------------------------------------\n",
      "\u001b[93mProcessing department: 新潟チーム\n",
      "\u001b[92mDepartment: 新潟チーム proceed successfully !\n",
      "--------------------------------------------------------------\n",
      "\u001b[93mProcessing department: 大阪チーム\n",
      "\u001b[92mDepartment: 大阪チーム proceed successfully !\n",
      "--------------------------------------------------------------\n",
      "\u001b[93mProcessing department: 神戸チーム\n",
      "\u001b[92mDepartment: 神戸チーム proceed successfully !\n",
      "--------------------------------------------------------------\n",
      "------------------------ END SCRAPPER ------------------------\n"
     ]
    }
   ],
   "source": [
    "# Options in the select department\n",
    "sleep(1)\n",
    "options = [item for item in select_department.find_elements(By.TAG_NAME, 'option')]\n",
    "del options[0]\n",
    "\n",
    "count = 0\n",
    "existMessageBox = True\n",
    "listDepartmentHaveData = []\n",
    "\n",
    "for element in (options):\n",
    "    print(f\"{color.WARNING}Processing department: \" + str(element.text))\n",
    "    element.click()\n",
    "\n",
    "    # Check if the selected department have data or not\n",
    "    try:\n",
    "        noDataNotifyModal = driver.find_element(By.ID, 'function_window_F25_messagebox_0')\n",
    "    except NoSuchElementException:\n",
    "        existMessageBox = False\n",
    "\n",
    "    # If the selected departsment have data then download the data\n",
    "    # otherwise, click on the OK button to turn off the modal \n",
    "    if existMessageBox == True:\n",
    "        driver.find_element(By.ID, 'msg_confirm').click()\n",
    "    elif existMessageBox == False:\n",
    "        driver.find_element(By.ID, 'P25_csvout_button').click()\n",
    "        listDepartmentHaveData.append(element.text)\n",
    "\n",
    "    if existMessageBox == True:\n",
    "        print(f\"{color.FAIL}Department: \" + element.text + \" have no data, passed !\")\n",
    "    else:\n",
    "        print(f\"{color.SUCCESS}Department: \" + element.text + \" proceed successfully !\")\n",
    "        \n",
    "    print('--------------------------------------------------------------')\n",
    "    existMessageBox = True\n",
    "    sleep(2)\n",
    "    count += 1\n",
    "\n",
    "print('------------------------ END SCRAPPER ------------------------')"
   ]
  },
  {
   "cell_type": "code",
   "execution_count": 34,
   "metadata": {},
   "outputs": [
    {
     "name": "stdout",
     "output_type": "stream",
     "text": [
      "Closing the driver in: 5\n",
      "Closing the driver in: 4\n",
      "Closing the driver in: 3\n",
      "Closing the driver in: 2\n",
      "Closing the driver in: 1\n",
      "Closing the driver in: 0\n"
     ]
    }
   ],
   "source": [
    "# Close the driver\n",
    "index = 5\n",
    "while 0 <= index:\n",
    "    print(\"Closing the driver in: \" +str(index))\n",
    "    sleep(1)\n",
    "    index -= 1\n",
    "\n",
    "driver.quit()"
   ]
  },
  {
   "cell_type": "code",
   "execution_count": 40,
   "metadata": {},
   "outputs": [
    {
     "name": "stdout",
     "output_type": "stream",
     "text": [
      "['C:/Users/HaThaiViet/Downloads\\\\アルコール測定結果 (1).zip', 'C:/Users/HaThaiViet/Downloads\\\\アルコール測定結果 (2).zip', 'C:/Users/HaThaiViet/Downloads\\\\アルコール測定結果 (3).zip', 'C:/Users/HaThaiViet/Downloads\\\\アルコール測定結果 (4).zip', 'C:/Users/HaThaiViet/Downloads\\\\アルコール測定結果 (5).zip', 'C:/Users/HaThaiViet/Downloads\\\\アルコール測定結果 (6).zip', 'C:/Users/HaThaiViet/Downloads\\\\アルコール測定結果 (7).zip', 'C:/Users/HaThaiViet/Downloads\\\\アルコール測定結果 (8).zip', 'C:/Users/HaThaiViet/Downloads\\\\アルコール測定結果 (9).zip', 'C:/Users/HaThaiViet/Downloads\\\\アルコール測定結果.zip']\n"
     ]
    }
   ],
   "source": [
    "import os\n",
    "\n",
    "directory = 'C:/Users/HaThaiViet/Downloads'\n",
    "\n",
    "listFiles = []\n",
    "\n",
    "for filename in os.listdir(directory):\n",
    "    if filename.endswith('.zip') and filename.startswith('アルコール測定結果'): \n",
    "        listFiles.append(os.path.join(directory, filename))\n",
    "        continue\n",
    "    else:\n",
    "        continue"
   ]
  },
  {
   "cell_type": "code",
   "execution_count": 37,
   "metadata": {},
   "outputs": [],
   "source": [
    "# Convert scrapDataDate to save as zip file name\n",
    "def joinYMDZipFile(string):\n",
    "    year = string.split('-')[0]\n",
    "    month = string.split('-')[1]\n",
    "    day = string.split('-')[2]\n",
    "    return str(year) + '_' + str(month) + '_' + str(day)\n"
   ]
  },
  {
   "cell_type": "code",
   "execution_count": null,
   "metadata": {},
   "outputs": [],
   "source": [
    "from zipfile import ZipFile\n",
    "\n",
    "dateTime = joinYMDZipFile(str(yesterday))\n",
    "\n",
    "zipObject = ZipFile('ScrapData/' + dateTime + '.zip', 'w')\n",
    "\n",
    "zipFileName = zipObject.filename\n",
    "\n",
    "index = 0\n",
    "\n",
    "print(len(listFiles))\n",
    "\n",
    "while index < len(listFiles):\n",
    "    zipObject.write(listFiles[index], listDepartmentHaveData[index] + '.zip')\n",
    "    print('...added ' + str(listDepartmentHaveData[index]))\n",
    "    index += 1\n",
    "\n",
    "zipObject.close()"
   ]
  },
  {
   "cell_type": "code",
   "execution_count": 56,
   "metadata": {},
   "outputs": [],
   "source": [
    "generalZipFile = ZipFile(zipFileName, 'r')\n",
    "generalZipFile.extractall('ScrapData/Extracted Files')"
   ]
  },
  {
   "cell_type": "code",
   "execution_count": 76,
   "metadata": {},
   "outputs": [
    {
     "name": "stdout",
     "output_type": "stream",
     "text": [
      "['三芳チーム.zip', '八千代チーム.zip', '古河チーム.zip', '名古屋チーム.zip', '大阪チーム.zip', '富山チーム.zip', '新潟チーム.zip', '横浜第１チーム.zip', '横浜第２、第３チーム.zip', '神戸チーム.zip']\n"
     ]
    }
   ],
   "source": [
    "directory = 'ScrapData/Extracted Files'\n",
    "\n",
    "listZipFiles = []\n",
    "\n",
    "for filename in os.listdir(directory):\n",
    "    if filename.endswith('.zip'): \n",
    "        listZipFiles.append(filename)\n",
    "        continue\n",
    "    else:\n",
    "        continue\n",
    "\n",
    "print(listZipFiles)\n",
    "\n",
    "index = 0\n",
    "\n",
    "while index < len(listZipFiles):\n",
    "    ZipFile('ScrapData/Extracted Files/' + listZipFiles[index]).extractall('ScrapData/Extracted Files')\n",
    "    index += 1\n"
   ]
  },
  {
   "cell_type": "markdown",
   "metadata": {},
   "source": []
  }
 ],
 "metadata": {
  "interpreter": {
   "hash": "7cec9ff813d324916502b577f120daa67d5c00aa44132d5e060520892a31b35b"
  },
  "kernelspec": {
   "display_name": "Python 3.10.0 64-bit",
   "language": "python",
   "name": "python3"
  },
  "language_info": {
   "codemirror_mode": {
    "name": "ipython",
    "version": 3
   },
   "file_extension": ".py",
   "mimetype": "text/x-python",
   "name": "python",
   "nbconvert_exporter": "python",
   "pygments_lexer": "ipython3",
   "version": "3.10.0"
  },
  "orig_nbformat": 4
 },
 "nbformat": 4,
 "nbformat_minor": 2
}
