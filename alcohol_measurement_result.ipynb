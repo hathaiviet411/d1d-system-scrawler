{
 "cells": [
  {
   "cell_type": "code",
   "execution_count": 7,
   "metadata": {},
   "outputs": [],
   "source": [
    "from selenium import webdriver\n",
    "from selenium.webdriver.common.by import By\n",
    "from selenium.webdriver.common.keys import Keys\n",
    "from selenium.webdriver.common.action_chains import ActionChains\n",
    "import datetime\n",
    "from time import sleep\n",
    "import calendar\n",
    "from selenium.webdriver.support.ui import Select\n",
    "import os\n",
    "import time\n",
    "from selenium.common.exceptions import NoSuchElementException    "
   ]
  },
  {
   "cell_type": "code",
   "execution_count": 8,
   "metadata": {},
   "outputs": [],
   "source": [
    "# ----------------------- Start Scrapper -----------------------"
   ]
  },
  {
   "cell_type": "code",
   "execution_count": 9,
   "metadata": {},
   "outputs": [],
   "source": [
    "# Initialize Chrome\n",
    "driver = webdriver.Chrome()\n",
    "driver.maximize_window()"
   ]
  },
  {
   "cell_type": "code",
   "execution_count": 10,
   "metadata": {},
   "outputs": [],
   "source": [
    "# Navigate to D1D system\n",
    "url = 'http://itpv2.transtron.fujitsu.com/'\n",
    "driver.get(url)"
   ]
  },
  {
   "cell_type": "code",
   "execution_count": 11,
   "metadata": {},
   "outputs": [],
   "source": [
    "# Fill login information\n",
    "sleep(1)\n",
    "input_field = driver.find_element(By.ID, 'userid')\n",
    "input_field.send_keys('izmb-free')\n",
    "\n",
    "password_field = driver.find_element(By.ID, 'password')\n",
    "password_field.send_keys('izumi001')"
   ]
  },
  {
   "cell_type": "code",
   "execution_count": 12,
   "metadata": {},
   "outputs": [],
   "source": [
    "# Login\n",
    "sleep(1)\n",
    "btn_login = driver.find_element(By.ID, 'login')\n",
    "btn_login.click()"
   ]
  },
  {
   "cell_type": "code",
   "execution_count": 13,
   "metadata": {},
   "outputs": [],
   "source": [
    "# Waiting the client loading\n",
    "sleep(60)"
   ]
  },
  {
   "cell_type": "code",
   "execution_count": 14,
   "metadata": {},
   "outputs": [],
   "source": [
    "def joinYMD(string):\n",
    "    year = string.split('-')[0]\n",
    "    month = string.split('-')[1]\n",
    "    day = string.split('-')[2]\n",
    "    return str(year) + '/' + str(month) + '/' + str(day)"
   ]
  },
  {
   "cell_type": "code",
   "execution_count": 15,
   "metadata": {},
   "outputs": [],
   "source": [
    "# Get yesterday\n",
    "today = datetime.date.today()\n",
    "yesterday = today - datetime.timedelta(days=1)"
   ]
  },
  {
   "cell_type": "code",
   "execution_count": 16,
   "metadata": {},
   "outputs": [],
   "source": [
    "# Transform the format of the scrap date\n",
    "scrapDataDate = joinYMD(str(yesterday))"
   ]
  },
  {
   "cell_type": "code",
   "execution_count": 17,
   "metadata": {},
   "outputs": [],
   "source": [
    "# Reset action\n",
    "def resetActionKey():\n",
    "    resetSpace =  driver.find_element(By.XPATH, '//*[@id=\"F04_mainview\"]/div[2]/div[1]')\n",
    "    resetSpace.click()"
   ]
  },
  {
   "cell_type": "code",
   "execution_count": 18,
   "metadata": {},
   "outputs": [],
   "source": [
    "# Function to get the correct xpath of each calendar\n",
    "def getCurrentCalendarXPATH(calendar_id, year, month):\n",
    "    return \"//table[@id='\" + calendar_id + \"_calendar_start_\" + year + '_' + month + \"']//a\""
   ]
  },
  {
   "cell_type": "code",
   "execution_count": 19,
   "metadata": {},
   "outputs": [],
   "source": [
    "# Open Menu\n",
    "sleep(1)\n",
    "btn_menu = driver.find_element(By.CLASS_NAME, 'b_btn-menu')\n",
    "btn_menu.click()"
   ]
  },
  {
   "cell_type": "code",
   "execution_count": 20,
   "metadata": {},
   "outputs": [],
   "source": [
    "# Hover Daily Report\n",
    "sleep(1)\n",
    "daily_report = driver.find_element(By.ID, 'F20')\n",
    "hover = ActionChains(driver).move_to_element(daily_report)\n",
    "hover.perform()"
   ]
  },
  {
   "cell_type": "code",
   "execution_count": null,
   "metadata": {},
   "outputs": [],
   "source": [
    "# Navigate to Alcohol Measurement Result\n",
    "sleep(1)\n",
    "alcohol_measurement_result = driver.find_element(By.XPATH, '//*[@id=\"F25\"]')\n",
    "alcohol_measurement_result.click()\n",
    "sleep(1)\n",
    "driver.find_element(By.ID, 'msg_confirm').click()"
   ]
  },
  {
   "cell_type": "code",
   "execution_count": null,
   "metadata": {},
   "outputs": [],
   "source": [
    "# Cancel button to ensure the menu is turn off\n",
    "sleep(10)\n",
    "resetActionKey()"
   ]
  },
  {
   "cell_type": "code",
   "execution_count": 77,
   "metadata": {},
   "outputs": [],
   "source": [
    "# Select department\n",
    "sleep(1)\n",
    "select_department = driver.find_element(By.ID, 'F25eigyousyo_list')\n",
    "select_department.click()"
   ]
  },
  {
   "cell_type": "code",
   "execution_count": 78,
   "metadata": {},
   "outputs": [],
   "source": [
    "def latest_download_file(string):\n",
    "      try:\n",
    "            path = r'C:/Users/HaThaiViet/Downloads'\n",
    "            os.chdir(path)\n",
    "            files = sorted(os.listdir(os.getcwd()), key=os.path.getmtime)\n",
    "            newest = files[-1]\n",
    "            os.rename(newest, 'myfile_' + string + '.zip')\n",
    "            files = sorted(os.listdir(os.getcwd()), key=os.path.getmtime)\n",
    "            newest = files[-1]\n",
    "            return newest\n",
    "      except:\n",
    "            return False"
   ]
  },
  {
   "cell_type": "code",
   "execution_count": 79,
   "metadata": {},
   "outputs": [],
   "source": [
    "def isFileExist(newestFile):\n",
    "    return os.path.exists('C:/Users/HaThaiViet/Downloads/' + newestFile);"
   ]
  },
  {
   "cell_type": "code",
   "execution_count": 80,
   "metadata": {},
   "outputs": [],
   "source": [
    "def isDownloadable():\n",
    "    try:\n",
    "        driver.find_element(By.XPATH, '//*[@id=\"window_messagebox\"]/div')\n",
    "    except NoSuchElementException: #good\n",
    "        return True\n",
    "    return False"
   ]
  },
  {
   "cell_type": "code",
   "execution_count": 81,
   "metadata": {},
   "outputs": [
    {
     "name": "stdout",
     "output_type": "stream",
     "text": [
      "myfile_1.zip\n"
     ]
    },
    {
     "ename": "ElementClickInterceptedException",
     "evalue": "Message: element click intercepted: Element <button type=\"button\" id=\"P25_csvout_button\" class=\"btn itp-btn-default w100\" title=\"データをCSV形式でファイルに出力します。\">...</button> is not clickable at point (718, 91). Other element would receive the click: <section id=\"function_window_F25_messagebox_0\" class=\"window_messagebox_wrap animate\" style=\"z-index: 9999999; display: block;\">...</section>\n  (Session info: chrome=96.0.4664.45)\nStacktrace:\nBacktrace:\n\tOrdinal0 [0x00896903+2517251]\n\tOrdinal0 [0x0082F8E1+2095329]\n\tOrdinal0 [0x00732848+1058888]\n\tOrdinal0 [0x00763509+1258761]\n\tOrdinal0 [0x00761868+1251432]\n\tOrdinal0 [0x0075F65D+1242717]\n\tOrdinal0 [0x0075E4A8+1238184]\n\tOrdinal0 [0x00754037+1196087]\n\tOrdinal0 [0x007764D3+1336531]\n\tOrdinal0 [0x00753A36+1194550]\n\tOrdinal0 [0x007765BA+1336762]\n\tOrdinal0 [0x00785BBF+1399743]\n\tOrdinal0 [0x0077639B+1336219]\n\tOrdinal0 [0x007527A7+1189799]\n\tOrdinal0 [0x00753609+1193481]\n\tGetHandleVerifier [0x00A25904+1577972]\n\tGetHandleVerifier [0x00AD0B97+2279047]\n\tGetHandleVerifier [0x00926D09+534521]\n\tGetHandleVerifier [0x00925DB9+530601]\n\tOrdinal0 [0x00834FF9+2117625]\n\tOrdinal0 [0x008398A8+2136232]\n\tOrdinal0 [0x008399E2+2136546]\n\tOrdinal0 [0x00843541+2176321]\n\tBaseThreadInitThunk [0x7797FA29+25]\n\tRtlGetAppContainerNamedObjectPath [0x77E17A9E+286]\n\tRtlGetAppContainerNamedObjectPath [0x77E17A6E+238]\n",
     "output_type": "error",
     "traceback": [
      "\u001b[1;31m---------------------------------------------------------------------------\u001b[0m",
      "\u001b[1;31mElementClickInterceptedException\u001b[0m          Traceback (most recent call last)",
      "\u001b[1;32mC:\\Users\\HATHAI~1\\AppData\\Local\\Temp/ipykernel_10880/2777140122.py\u001b[0m in \u001b[0;36m<module>\u001b[1;34m\u001b[0m\n\u001b[0;32m     19\u001b[0m \u001b[1;32mwhile\u001b[0m \u001b[0mcount\u001b[0m \u001b[1;33m<\u001b[0m \u001b[0mlen\u001b[0m\u001b[1;33m(\u001b[0m\u001b[0moptions\u001b[0m\u001b[1;33m)\u001b[0m\u001b[1;33m:\u001b[0m\u001b[1;33m\u001b[0m\u001b[1;33m\u001b[0m\u001b[0m\n\u001b[0;32m     20\u001b[0m     \u001b[0moptions\u001b[0m\u001b[1;33m[\u001b[0m\u001b[0mcount\u001b[0m\u001b[1;33m]\u001b[0m\u001b[1;33m.\u001b[0m\u001b[0mclick\u001b[0m\u001b[1;33m(\u001b[0m\u001b[1;33m)\u001b[0m\u001b[1;33m\u001b[0m\u001b[1;33m\u001b[0m\u001b[0m\n\u001b[1;32m---> 21\u001b[1;33m     \u001b[1;32mif\u001b[0m \u001b[0mhandleDownload\u001b[0m\u001b[1;33m(\u001b[0m\u001b[0mcount\u001b[0m\u001b[1;33m)\u001b[0m\u001b[1;33m:\u001b[0m\u001b[1;33m\u001b[0m\u001b[1;33m\u001b[0m\u001b[0m\n\u001b[0m\u001b[0;32m     22\u001b[0m         \u001b[0mcount\u001b[0m \u001b[1;33m+=\u001b[0m \u001b[1;36m1\u001b[0m\u001b[1;33m\u001b[0m\u001b[1;33m\u001b[0m\u001b[0m\n\u001b[0;32m     23\u001b[0m         \u001b[0mredownload\u001b[0m \u001b[1;33m=\u001b[0m \u001b[1;36m2\u001b[0m\u001b[1;33m\u001b[0m\u001b[1;33m\u001b[0m\u001b[0m\n",
      "\u001b[1;32mC:\\Users\\HATHAI~1\\AppData\\Local\\Temp/ipykernel_10880/2777140122.py\u001b[0m in \u001b[0;36mhandleDownload\u001b[1;34m(count)\u001b[0m\n\u001b[0;32m      6\u001b[0m \u001b[1;33m\u001b[0m\u001b[0m\n\u001b[0;32m      7\u001b[0m \u001b[1;32mdef\u001b[0m \u001b[0mhandleDownload\u001b[0m\u001b[1;33m(\u001b[0m\u001b[0mcount\u001b[0m\u001b[1;33m)\u001b[0m\u001b[1;33m:\u001b[0m\u001b[1;33m\u001b[0m\u001b[1;33m\u001b[0m\u001b[0m\n\u001b[1;32m----> 8\u001b[1;33m     \u001b[0mdriver\u001b[0m\u001b[1;33m.\u001b[0m\u001b[0mfind_element\u001b[0m\u001b[1;33m(\u001b[0m\u001b[0mBy\u001b[0m\u001b[1;33m.\u001b[0m\u001b[0mID\u001b[0m\u001b[1;33m,\u001b[0m \u001b[1;34m'P25_csvout_button'\u001b[0m\u001b[1;33m)\u001b[0m\u001b[1;33m.\u001b[0m\u001b[0mclick\u001b[0m\u001b[1;33m(\u001b[0m\u001b[1;33m)\u001b[0m\u001b[1;33m\u001b[0m\u001b[1;33m\u001b[0m\u001b[0m\n\u001b[0m\u001b[0;32m      9\u001b[0m     \u001b[0msleep\u001b[0m\u001b[1;33m(\u001b[0m\u001b[1;36m5\u001b[0m\u001b[1;33m)\u001b[0m\u001b[1;33m\u001b[0m\u001b[1;33m\u001b[0m\u001b[0m\n\u001b[0;32m     10\u001b[0m     \u001b[1;32mif\u001b[0m \u001b[0misDownloadable\u001b[0m\u001b[1;33m(\u001b[0m\u001b[1;33m)\u001b[0m\u001b[1;33m:\u001b[0m\u001b[1;33m\u001b[0m\u001b[1;33m\u001b[0m\u001b[0m\n",
      "\u001b[1;32m~\\AppData\\Local\\Programs\\Python\\Python310\\lib\\site-packages\\selenium\\webdriver\\remote\\webelement.py\u001b[0m in \u001b[0;36mclick\u001b[1;34m(self)\u001b[0m\n\u001b[0;32m     79\u001b[0m     \u001b[1;32mdef\u001b[0m \u001b[0mclick\u001b[0m\u001b[1;33m(\u001b[0m\u001b[0mself\u001b[0m\u001b[1;33m)\u001b[0m \u001b[1;33m->\u001b[0m \u001b[1;32mNone\u001b[0m\u001b[1;33m:\u001b[0m\u001b[1;33m\u001b[0m\u001b[1;33m\u001b[0m\u001b[0m\n\u001b[0;32m     80\u001b[0m         \u001b[1;34m\"\"\"Clicks the element.\"\"\"\u001b[0m\u001b[1;33m\u001b[0m\u001b[1;33m\u001b[0m\u001b[0m\n\u001b[1;32m---> 81\u001b[1;33m         \u001b[0mself\u001b[0m\u001b[1;33m.\u001b[0m\u001b[0m_execute\u001b[0m\u001b[1;33m(\u001b[0m\u001b[0mCommand\u001b[0m\u001b[1;33m.\u001b[0m\u001b[0mCLICK_ELEMENT\u001b[0m\u001b[1;33m)\u001b[0m\u001b[1;33m\u001b[0m\u001b[1;33m\u001b[0m\u001b[0m\n\u001b[0m\u001b[0;32m     82\u001b[0m \u001b[1;33m\u001b[0m\u001b[0m\n\u001b[0;32m     83\u001b[0m     \u001b[1;32mdef\u001b[0m \u001b[0msubmit\u001b[0m\u001b[1;33m(\u001b[0m\u001b[0mself\u001b[0m\u001b[1;33m)\u001b[0m\u001b[1;33m:\u001b[0m\u001b[1;33m\u001b[0m\u001b[1;33m\u001b[0m\u001b[0m\n",
      "\u001b[1;32m~\\AppData\\Local\\Programs\\Python\\Python310\\lib\\site-packages\\selenium\\webdriver\\remote\\webelement.py\u001b[0m in \u001b[0;36m_execute\u001b[1;34m(self, command, params)\u001b[0m\n\u001b[0;32m    708\u001b[0m             \u001b[0mparams\u001b[0m \u001b[1;33m=\u001b[0m \u001b[1;33m{\u001b[0m\u001b[1;33m}\u001b[0m\u001b[1;33m\u001b[0m\u001b[1;33m\u001b[0m\u001b[0m\n\u001b[0;32m    709\u001b[0m         \u001b[0mparams\u001b[0m\u001b[1;33m[\u001b[0m\u001b[1;34m'id'\u001b[0m\u001b[1;33m]\u001b[0m \u001b[1;33m=\u001b[0m \u001b[0mself\u001b[0m\u001b[1;33m.\u001b[0m\u001b[0m_id\u001b[0m\u001b[1;33m\u001b[0m\u001b[1;33m\u001b[0m\u001b[0m\n\u001b[1;32m--> 710\u001b[1;33m         \u001b[1;32mreturn\u001b[0m \u001b[0mself\u001b[0m\u001b[1;33m.\u001b[0m\u001b[0m_parent\u001b[0m\u001b[1;33m.\u001b[0m\u001b[0mexecute\u001b[0m\u001b[1;33m(\u001b[0m\u001b[0mcommand\u001b[0m\u001b[1;33m,\u001b[0m \u001b[0mparams\u001b[0m\u001b[1;33m)\u001b[0m\u001b[1;33m\u001b[0m\u001b[1;33m\u001b[0m\u001b[0m\n\u001b[0m\u001b[0;32m    711\u001b[0m \u001b[1;33m\u001b[0m\u001b[0m\n\u001b[0;32m    712\u001b[0m     \u001b[1;32mdef\u001b[0m \u001b[0mfind_element\u001b[0m\u001b[1;33m(\u001b[0m\u001b[0mself\u001b[0m\u001b[1;33m,\u001b[0m \u001b[0mby\u001b[0m\u001b[1;33m=\u001b[0m\u001b[0mBy\u001b[0m\u001b[1;33m.\u001b[0m\u001b[0mID\u001b[0m\u001b[1;33m,\u001b[0m \u001b[0mvalue\u001b[0m\u001b[1;33m=\u001b[0m\u001b[1;32mNone\u001b[0m\u001b[1;33m)\u001b[0m\u001b[1;33m:\u001b[0m\u001b[1;33m\u001b[0m\u001b[1;33m\u001b[0m\u001b[0m\n",
      "\u001b[1;32m~\\AppData\\Local\\Programs\\Python\\Python310\\lib\\site-packages\\selenium\\webdriver\\remote\\webdriver.py\u001b[0m in \u001b[0;36mexecute\u001b[1;34m(self, driver_command, params)\u001b[0m\n\u001b[0;32m    422\u001b[0m         \u001b[0mresponse\u001b[0m \u001b[1;33m=\u001b[0m \u001b[0mself\u001b[0m\u001b[1;33m.\u001b[0m\u001b[0mcommand_executor\u001b[0m\u001b[1;33m.\u001b[0m\u001b[0mexecute\u001b[0m\u001b[1;33m(\u001b[0m\u001b[0mdriver_command\u001b[0m\u001b[1;33m,\u001b[0m \u001b[0mparams\u001b[0m\u001b[1;33m)\u001b[0m\u001b[1;33m\u001b[0m\u001b[1;33m\u001b[0m\u001b[0m\n\u001b[0;32m    423\u001b[0m         \u001b[1;32mif\u001b[0m \u001b[0mresponse\u001b[0m\u001b[1;33m:\u001b[0m\u001b[1;33m\u001b[0m\u001b[1;33m\u001b[0m\u001b[0m\n\u001b[1;32m--> 424\u001b[1;33m             \u001b[0mself\u001b[0m\u001b[1;33m.\u001b[0m\u001b[0merror_handler\u001b[0m\u001b[1;33m.\u001b[0m\u001b[0mcheck_response\u001b[0m\u001b[1;33m(\u001b[0m\u001b[0mresponse\u001b[0m\u001b[1;33m)\u001b[0m\u001b[1;33m\u001b[0m\u001b[1;33m\u001b[0m\u001b[0m\n\u001b[0m\u001b[0;32m    425\u001b[0m             response['value'] = self._unwrap_value(\n\u001b[0;32m    426\u001b[0m                 response.get('value', None))\n",
      "\u001b[1;32m~\\AppData\\Local\\Programs\\Python\\Python310\\lib\\site-packages\\selenium\\webdriver\\remote\\errorhandler.py\u001b[0m in \u001b[0;36mcheck_response\u001b[1;34m(self, response)\u001b[0m\n\u001b[0;32m    245\u001b[0m                 \u001b[0malert_text\u001b[0m \u001b[1;33m=\u001b[0m \u001b[0mvalue\u001b[0m\u001b[1;33m[\u001b[0m\u001b[1;34m'alert'\u001b[0m\u001b[1;33m]\u001b[0m\u001b[1;33m.\u001b[0m\u001b[0mget\u001b[0m\u001b[1;33m(\u001b[0m\u001b[1;34m'text'\u001b[0m\u001b[1;33m)\u001b[0m\u001b[1;33m\u001b[0m\u001b[1;33m\u001b[0m\u001b[0m\n\u001b[0;32m    246\u001b[0m             \u001b[1;32mraise\u001b[0m \u001b[0mexception_class\u001b[0m\u001b[1;33m(\u001b[0m\u001b[0mmessage\u001b[0m\u001b[1;33m,\u001b[0m \u001b[0mscreen\u001b[0m\u001b[1;33m,\u001b[0m \u001b[0mstacktrace\u001b[0m\u001b[1;33m,\u001b[0m \u001b[0malert_text\u001b[0m\u001b[1;33m)\u001b[0m  \u001b[1;31m# type: ignore[call-arg]  # mypy is not smart enough here\u001b[0m\u001b[1;33m\u001b[0m\u001b[1;33m\u001b[0m\u001b[0m\n\u001b[1;32m--> 247\u001b[1;33m         \u001b[1;32mraise\u001b[0m \u001b[0mexception_class\u001b[0m\u001b[1;33m(\u001b[0m\u001b[0mmessage\u001b[0m\u001b[1;33m,\u001b[0m \u001b[0mscreen\u001b[0m\u001b[1;33m,\u001b[0m \u001b[0mstacktrace\u001b[0m\u001b[1;33m)\u001b[0m\u001b[1;33m\u001b[0m\u001b[1;33m\u001b[0m\u001b[0m\n\u001b[0m\u001b[0;32m    248\u001b[0m \u001b[1;33m\u001b[0m\u001b[0m\n\u001b[0;32m    249\u001b[0m     \u001b[1;32mdef\u001b[0m \u001b[0m_value_or_default\u001b[0m\u001b[1;33m(\u001b[0m\u001b[0mself\u001b[0m\u001b[1;33m,\u001b[0m \u001b[0mobj\u001b[0m\u001b[1;33m:\u001b[0m \u001b[0mMapping\u001b[0m\u001b[1;33m[\u001b[0m\u001b[0m_KT\u001b[0m\u001b[1;33m,\u001b[0m \u001b[0m_VT\u001b[0m\u001b[1;33m]\u001b[0m\u001b[1;33m,\u001b[0m \u001b[0mkey\u001b[0m\u001b[1;33m:\u001b[0m \u001b[0m_KT\u001b[0m\u001b[1;33m,\u001b[0m \u001b[0mdefault\u001b[0m\u001b[1;33m:\u001b[0m \u001b[0m_VT\u001b[0m\u001b[1;33m)\u001b[0m \u001b[1;33m->\u001b[0m \u001b[0m_VT\u001b[0m\u001b[1;33m:\u001b[0m\u001b[1;33m\u001b[0m\u001b[1;33m\u001b[0m\u001b[0m\n",
      "\u001b[1;31mElementClickInterceptedException\u001b[0m: Message: element click intercepted: Element <button type=\"button\" id=\"P25_csvout_button\" class=\"btn itp-btn-default w100\" title=\"データをCSV形式でファイルに出力します。\">...</button> is not clickable at point (718, 91). Other element would receive the click: <section id=\"function_window_F25_messagebox_0\" class=\"window_messagebox_wrap animate\" style=\"z-index: 9999999; display: block;\">...</section>\n  (Session info: chrome=96.0.4664.45)\nStacktrace:\nBacktrace:\n\tOrdinal0 [0x00896903+2517251]\n\tOrdinal0 [0x0082F8E1+2095329]\n\tOrdinal0 [0x00732848+1058888]\n\tOrdinal0 [0x00763509+1258761]\n\tOrdinal0 [0x00761868+1251432]\n\tOrdinal0 [0x0075F65D+1242717]\n\tOrdinal0 [0x0075E4A8+1238184]\n\tOrdinal0 [0x00754037+1196087]\n\tOrdinal0 [0x007764D3+1336531]\n\tOrdinal0 [0x00753A36+1194550]\n\tOrdinal0 [0x007765BA+1336762]\n\tOrdinal0 [0x00785BBF+1399743]\n\tOrdinal0 [0x0077639B+1336219]\n\tOrdinal0 [0x007527A7+1189799]\n\tOrdinal0 [0x00753609+1193481]\n\tGetHandleVerifier [0x00A25904+1577972]\n\tGetHandleVerifier [0x00AD0B97+2279047]\n\tGetHandleVerifier [0x00926D09+534521]\n\tGetHandleVerifier [0x00925DB9+530601]\n\tOrdinal0 [0x00834FF9+2117625]\n\tOrdinal0 [0x008398A8+2136232]\n\tOrdinal0 [0x008399E2+2136546]\n\tOrdinal0 [0x00843541+2176321]\n\tBaseThreadInitThunk [0x7797FA29+25]\n\tRtlGetAppContainerNamedObjectPath [0x77E17A9E+286]\n\tRtlGetAppContainerNamedObjectPath [0x77E17A6E+238]\n"
     ]
    }
   ],
   "source": [
    "# Options in the select department\n",
    "sleep(1)\n",
    "options = [item for item in select_department.find_elements(By.TAG_NAME, 'option')]\n",
    "\n",
    "listDepartment = []\n",
    "\n",
    "def handleDownload(count):\n",
    "    driver.find_element(By.ID, 'P25_csvout_button').click()\n",
    "    sleep(5)\n",
    "    if isDownloadable():\n",
    "        name = latest_download_file(str(count))\n",
    "        print(name)\n",
    "        return isFileExist(name)\n",
    "    else:\n",
    "        driver.find_element(By.ID, 'msg_confirm').click()\n",
    "        return False\n",
    "\n",
    "count = 1\n",
    "redownload = 0\n",
    "while count < len(options):\n",
    "    options[count].click()\n",
    "    if handleDownload(count): \n",
    "        count += 1\n",
    "        redownload = 2\n",
    "    else:\n",
    "        sleep(10)\n",
    "        print('count: ' + str(count))\n",
    "        redownload += 1\n",
    "        count += 1\n",
    "\n",
    "# for element in (options):\n",
    "#     element.click()\n",
    "#     handleDownload()\n",
    "    # count += 1\n",
    "    # latest_download_file(count)\n"
   ]
  },
  {
   "cell_type": "code",
   "execution_count": null,
   "metadata": {},
   "outputs": [],
   "source": []
  }
 ],
 "metadata": {
  "interpreter": {
   "hash": "7cec9ff813d324916502b577f120daa67d5c00aa44132d5e060520892a31b35b"
  },
  "kernelspec": {
   "display_name": "Python 3.10.0 64-bit",
   "language": "python",
   "name": "python3"
  },
  "language_info": {
   "codemirror_mode": {
    "name": "ipython",
    "version": 3
   },
   "file_extension": ".py",
   "mimetype": "text/x-python",
   "name": "python",
   "nbconvert_exporter": "python",
   "pygments_lexer": "ipython3",
   "version": "3.10.0"
  },
  "orig_nbformat": 4
 },
 "nbformat": 4,
 "nbformat_minor": 2
}
