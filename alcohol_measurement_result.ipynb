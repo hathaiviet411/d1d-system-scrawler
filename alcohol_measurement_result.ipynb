{
 "cells": [
  {
   "cell_type": "code",
   "execution_count": 67,
   "metadata": {},
   "outputs": [],
   "source": [
    "from selenium import webdriver\n",
    "from selenium.webdriver.common.by import By\n",
    "from selenium.webdriver.common.keys import Keys\n",
    "from selenium.webdriver.common.action_chains import ActionChains\n",
    "import datetime\n",
    "from time import sleep\n",
    "from selenium.common.exceptions import NoSuchElementException"
   ]
  },
  {
   "cell_type": "code",
   "execution_count": 68,
   "metadata": {},
   "outputs": [],
   "source": [
    "# ----------------------- Start Scrapper -----------------------"
   ]
  },
  {
   "cell_type": "code",
   "execution_count": 69,
   "metadata": {},
   "outputs": [],
   "source": [
    "# Initialize Chrome\n",
    "driver = webdriver.Chrome()\n",
    "driver.maximize_window()\n",
    "driver.implicitly_wait(10)"
   ]
  },
  {
   "cell_type": "code",
   "execution_count": 70,
   "metadata": {},
   "outputs": [],
   "source": [
    "# Navigate to D1D system\n",
    "url = 'http://itpv2.transtron.fujitsu.com/'\n",
    "driver.get(url)"
   ]
  },
  {
   "cell_type": "code",
   "execution_count": 71,
   "metadata": {},
   "outputs": [],
   "source": [
    "# Fill login information\n",
    "sleep(1)\n",
    "input_field = driver.find_element(By.ID, 'userid')\n",
    "input_field.send_keys('izmb-free')\n",
    "\n",
    "password_field = driver.find_element(By.ID, 'password')\n",
    "password_field.send_keys('izumi001')"
   ]
  },
  {
   "cell_type": "code",
   "execution_count": 72,
   "metadata": {},
   "outputs": [],
   "source": [
    "# Login\n",
    "sleep(1)\n",
    "btn_login = driver.find_element(By.ID, 'login')\n",
    "btn_login.click()"
   ]
  },
  {
   "cell_type": "code",
   "execution_count": 73,
   "metadata": {},
   "outputs": [],
   "source": [
    "# Waiting the client loading\n",
    "sleep(60)"
   ]
  },
  {
   "cell_type": "code",
   "execution_count": 74,
   "metadata": {},
   "outputs": [],
   "source": [
    "def joinYMD(string):\n",
    "    year = string.split('-')[0]\n",
    "    month = string.split('-')[1]\n",
    "    day = string.split('-')[2]\n",
    "    return str(year) + '/' + str(month) + '/' + str(day)"
   ]
  },
  {
   "cell_type": "code",
   "execution_count": 75,
   "metadata": {},
   "outputs": [],
   "source": [
    "# Get yesterday\n",
    "today = datetime.date.today()\n",
    "yesterday = today - datetime.timedelta(days=1)"
   ]
  },
  {
   "cell_type": "code",
   "execution_count": 98,
   "metadata": {},
   "outputs": [],
   "source": [
    "class color:\n",
    "    SUCCESS = '\\033[92m'\n",
    "    WARNING = '\\033[93m'\n",
    "    FAIL = '\\033[91m'"
   ]
  },
  {
   "cell_type": "code",
   "execution_count": 77,
   "metadata": {},
   "outputs": [],
   "source": [
    "# Transform the format of the scrap date\n",
    "scrapDataDate = joinYMD(str(yesterday))"
   ]
  },
  {
   "cell_type": "code",
   "execution_count": 78,
   "metadata": {},
   "outputs": [],
   "source": [
    "# Reset action\n",
    "def resetActionKey():\n",
    "    resetSpace =  driver.find_element(By.XPATH, '//*[@id=\"F04_mainview\"]/div[2]/div[1]')\n",
    "    resetSpace.click()"
   ]
  },
  {
   "cell_type": "code",
   "execution_count": 79,
   "metadata": {},
   "outputs": [],
   "source": [
    "# Function to get the correct xpath of each calendar\n",
    "def getCurrentCalendarXPATH(calendar_id, year, month):\n",
    "    return \"//table[@id='\" + calendar_id + \"_calendar_start_\" + year + '_' + month + \"']//a\""
   ]
  },
  {
   "cell_type": "code",
   "execution_count": 99,
   "metadata": {},
   "outputs": [],
   "source": [
    "# Open Menu\n",
    "sleep(1)\n",
    "btn_menu = driver.find_element(By.CLASS_NAME, 'b_btn-menu')\n",
    "btn_menu.click()"
   ]
  },
  {
   "cell_type": "code",
   "execution_count": 100,
   "metadata": {},
   "outputs": [],
   "source": [
    "# Hover Daily Report\n",
    "sleep(1)\n",
    "daily_report = driver.find_element(By.ID, 'F20')\n",
    "hover = ActionChains(driver).move_to_element(daily_report)\n",
    "hover.perform()"
   ]
  },
  {
   "cell_type": "code",
   "execution_count": 101,
   "metadata": {},
   "outputs": [],
   "source": [
    "# Navigate to Alcohol Measurement Result\n",
    "sleep(1)\n",
    "alcohol_measurement_result = driver.find_element(By.XPATH, '//*[@id=\"F25\"]')\n",
    "alcohol_measurement_result.click()"
   ]
  },
  {
   "cell_type": "code",
   "execution_count": 102,
   "metadata": {},
   "outputs": [],
   "source": [
    "# Cancel button to ensure the menu is turn off\n",
    "sleep(5)\n",
    "resetActionKey()"
   ]
  },
  {
   "cell_type": "code",
   "execution_count": 103,
   "metadata": {},
   "outputs": [],
   "source": [
    "# Select department\n",
    "sleep(1)\n",
    "select_department = driver.find_element(By.ID, 'F25eigyousyo_list')\n",
    "select_department.click()\n",
    "sleep(1)\n",
    "driver.find_element(By.XPATH, '//*[@id=\"F25eigyousyo_list\"]/option[2]').click()\n",
    "\n",
    "# Handle the scrapper date - should be yester day of today\n",
    "# Start date\n",
    "start_date = driver.find_element(By.ID, 'F25_StartDate')\n",
    "start_date.click()\n",
    "\n",
    "index = 0\n",
    "\n",
    "sleep(1)\n",
    "while index <= 2:\n",
    "    start_date.send_keys(Keys.ARROW_RIGHT)\n",
    "    index += 1\n",
    "\n",
    "sleep(1)\n",
    "while index <= 12:\n",
    "    start_date.send_keys(Keys.BACKSPACE)\n",
    "    index += 1\n",
    "\n",
    "start_date.send_keys(scrapDataDate)\n",
    "\n",
    "sleep(1)\n",
    "resetActionKey()\n",
    "\n",
    "# End date\n",
    "end_date = driver.find_element(By.ID, 'F25_EndDate')\n",
    "end_date.click()\n",
    "\n",
    "index = 0\n",
    "\n",
    "while index <= 2:\n",
    "    end_date.send_keys(Keys.ARROW_RIGHT)\n",
    "    index += 1\n",
    "\n",
    "while index <= 12:\n",
    "    end_date.send_keys(Keys.BACKSPACE)\n",
    "    index += 1\n",
    "\n",
    "end_date.send_keys(scrapDataDate)\n",
    "\n",
    "sleep(1)\n",
    "resetActionKey()"
   ]
  },
  {
   "cell_type": "code",
   "execution_count": 104,
   "metadata": {},
   "outputs": [
    {
     "name": "stdout",
     "output_type": "stream",
     "text": [
      "\u001b[102mProcessing department: + 横浜第１チーム\n",
      "\u001b[92mDepartment: 横浜第１チーム proceed successfully !\n",
      "--------------------------------------------------------------\n",
      "\u001b[102mProcessing department: + 横浜第２チーム\n",
      "\u001b[91mDepartment: 横浜第２チーム have no data, passed !\n",
      "--------------------------------------------------------------\n",
      "\u001b[102mProcessing department: + 平塚チーム\n",
      "\u001b[91mDepartment: 平塚チーム have no data, passed !\n",
      "--------------------------------------------------------------\n",
      "\u001b[102mProcessing department: + 平塚パスコチーム\n",
      "\u001b[91mDepartment: 平塚パスコチーム have no data, passed !\n",
      "--------------------------------------------------------------\n",
      "\u001b[102mProcessing department: + 静岡チーム\n",
      "\u001b[91mDepartment: 静岡チーム have no data, passed !\n",
      "--------------------------------------------------------------\n",
      "\u001b[102mProcessing department: + 横浜第２、第３チーム\n",
      "\u001b[92mDepartment: 横浜第２、第３チーム proceed successfully !\n",
      "--------------------------------------------------------------\n",
      "\u001b[102mProcessing department: + 三芳チーム\n"
     ]
    }
   ],
   "source": [
    "# Options in the select department\n",
    "sleep(1)\n",
    "options = [item for item in select_department.find_elements(By.TAG_NAME, 'option')]\n",
    "del options[0]\n",
    "\n",
    "count = 0\n",
    "existMessageBox = True\n",
    "\n",
    "for element in (options):\n",
    "    print(f\"{color.WARNING}Processing department: + \" + str(element.text))\n",
    "    element.click()\n",
    "\n",
    "    # Check if the selected department have data or not\n",
    "    try:\n",
    "        noDataNotifyModal = driver.find_element(By.ID, 'function_window_F25_messagebox_0')\n",
    "    except NoSuchElementException:\n",
    "        existMessageBox = False\n",
    "\n",
    "    # If the selected departsment have data then download the data\n",
    "    # otherwise, click on the OK button to turn off the modal \n",
    "    if existMessageBox == True:\n",
    "        driver.find_element(By.ID, 'msg_confirm').click()\n",
    "    elif existMessageBox == False:\n",
    "        driver.find_element(By.ID, 'P25_csvout_button').click()\n",
    "\n",
    "    if existMessageBox == True:\n",
    "        print(f\"{color.FAIL}Department: \" + element.text + \" have no data, passed !\")\n",
    "    else:\n",
    "        print(f\"{color.SUCCESS}Department: \" + element.text + \" proceed successfully !\")\n",
    "        \n",
    "    print('--------------------------------------------------------------')\n",
    "    existMessageBox = True\n",
    "    sleep(2)\n",
    "    count += 1\n",
    "\n",
    "print('------------------------ END SCRAPPER ------------------------')"
   ]
  }
 ],
 "metadata": {
  "interpreter": {
   "hash": "7cec9ff813d324916502b577f120daa67d5c00aa44132d5e060520892a31b35b"
  },
  "kernelspec": {
   "display_name": "Python 3.10.0 64-bit",
   "language": "python",
   "name": "python3"
  },
  "language_info": {
   "codemirror_mode": {
    "name": "ipython",
    "version": 3
   },
   "file_extension": ".py",
   "mimetype": "text/x-python",
   "name": "python",
   "nbconvert_exporter": "python",
   "pygments_lexer": "ipython3",
   "version": "3.10.0"
  },
  "orig_nbformat": 4
 },
 "nbformat": 4,
 "nbformat_minor": 2
}
