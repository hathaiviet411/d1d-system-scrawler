{
 "cells": [
  {
   "cell_type": "code",
   "execution_count": 152,
   "metadata": {},
   "outputs": [],
   "source": [
    "from selenium import webdriver\n",
    "from selenium.webdriver.common.by import By\n",
    "from selenium.webdriver.common.keys import Keys\n",
    "from selenium.webdriver.common.action_chains import ActionChains\n",
    "import datetime\n",
    "from time import sleep\n",
    "from selenium.common.exceptions import NoSuchElementException"
   ]
  },
  {
   "cell_type": "code",
   "execution_count": 153,
   "metadata": {},
   "outputs": [],
   "source": [
    "# ----------------------- Start Scrapper -----------------------"
   ]
  },
  {
   "cell_type": "code",
   "execution_count": 154,
   "metadata": {},
   "outputs": [],
   "source": [
    "# Initialize Chrome\n",
    "driver = webdriver.Chrome()\n",
    "driver.maximize_window()\n",
    "driver.implicitly_wait(30)"
   ]
  },
  {
   "cell_type": "code",
   "execution_count": 155,
   "metadata": {},
   "outputs": [],
   "source": [
    "# Navigate to D1D system\n",
    "url = 'http://itpv2.transtron.fujitsu.com/'\n",
    "driver.get(url)"
   ]
  },
  {
   "cell_type": "code",
   "execution_count": 156,
   "metadata": {},
   "outputs": [],
   "source": [
    "# Fill login information\n",
    "sleep(1)\n",
    "input_field = driver.find_element(By.ID, 'userid')\n",
    "input_field.send_keys('izmb-free')\n",
    "\n",
    "password_field = driver.find_element(By.ID, 'password')\n",
    "password_field.send_keys('izumi001')"
   ]
  },
  {
   "cell_type": "code",
   "execution_count": 157,
   "metadata": {},
   "outputs": [],
   "source": [
    "# Login\n",
    "sleep(1)\n",
    "btn_login = driver.find_element(By.ID, 'login')\n",
    "btn_login.click()"
   ]
  },
  {
   "cell_type": "code",
   "execution_count": 158,
   "metadata": {},
   "outputs": [],
   "source": [
    "# Waiting the client loading\n",
    "sleep(60)"
   ]
  },
  {
   "cell_type": "code",
   "execution_count": 159,
   "metadata": {},
   "outputs": [],
   "source": [
    "def joinYMD(string):\n",
    "    year = string.split('-')[0]\n",
    "    month = string.split('-')[1]\n",
    "    day = string.split('-')[2]\n",
    "    return str(year) + '/' + str(month) + '/' + str(day)"
   ]
  },
  {
   "cell_type": "code",
   "execution_count": 160,
   "metadata": {},
   "outputs": [],
   "source": [
    "# Get yesterday\n",
    "today = datetime.date.today()\n",
    "yesterday = today - datetime.timedelta(days=1)"
   ]
  },
  {
   "cell_type": "code",
   "execution_count": 161,
   "metadata": {},
   "outputs": [],
   "source": [
    "# Transform the format of the scrap date\n",
    "scrapDataDate = joinYMD(str(yesterday))"
   ]
  },
  {
   "cell_type": "code",
   "execution_count": 162,
   "metadata": {},
   "outputs": [],
   "source": [
    "class color:\n",
    "    SUCCESS = '\\033[92m'\n",
    "    WARNING = '\\033[93m'\n",
    "    FAIL = '\\033[91m'"
   ]
  },
  {
   "cell_type": "code",
   "execution_count": 163,
   "metadata": {},
   "outputs": [],
   "source": [
    "# Reset action\n",
    "def resetActionKey():\n",
    "    resetSpace = driver.find_element(\n",
    "        By.XPATH, '//*[@id=\"F04_mainview\"]/div[2]/div[1]')\n",
    "    resetSpace.click()"
   ]
  },
  {
   "cell_type": "code",
   "execution_count": 164,
   "metadata": {},
   "outputs": [],
   "source": [
    "# Open Menu\n",
    "sleep(1)\n",
    "btn_menu = driver.find_element(By.CLASS_NAME, 'b_btn-menu')\n",
    "btn_menu.click()"
   ]
  },
  {
   "cell_type": "code",
   "execution_count": 165,
   "metadata": {},
   "outputs": [],
   "source": [
    "# Hover Function List\n",
    "sleep(1)\n",
    "function_list = driver.find_element(By.ID, 'F100')\n",
    "hover = ActionChains(driver).move_to_element(function_list)\n",
    "hover.perform()"
   ]
  },
  {
   "cell_type": "code",
   "execution_count": 166,
   "metadata": {},
   "outputs": [],
   "source": [
    "# Open Assistance Dropdown\n",
    "sleep(1)\n",
    "assistance = driver.find_element(By.ID, 'F80_dl')\n",
    "assistance.click()"
   ]
  },
  {
   "cell_type": "code",
   "execution_count": 167,
   "metadata": {},
   "outputs": [],
   "source": [
    "sleep(1)\n",
    "data_output = driver.find_element(By.ID, 'F81').click()"
   ]
  },
  {
   "cell_type": "code",
   "execution_count": 168,
   "metadata": {},
   "outputs": [
    {
     "name": "stdout",
     "output_type": "stream",
     "text": [
      "------------------------ Start Registration Files ------------------------\n"
     ]
    }
   ],
   "source": [
    "print('------------------------ Start Registration Files ------------------------')"
   ]
  },
  {
   "cell_type": "code",
   "execution_count": null,
   "metadata": {},
   "outputs": [],
   "source": [
    "# Options in the select department\n",
    "# Select department\n",
    "sleep(1)\n",
    "select_department = driver.find_element(By.ID, 'F81eigyousyo_list')\n",
    "select_department.click()\n",
    "\n",
    "sleep(1)\n",
    "options = [item for item in select_department.find_elements(\n",
    "    By.TAG_NAME, 'option')]\n",
    "\n",
    "count = 0\n",
    "existMessageBox = True\n",
    "\n",
    "# Check all the checkbox\n",
    "branch_data = driver.find_element(\n",
    "    By.XPATH, '//*[@id=\"data_out_form\"]/section/article[1]/table/tbody/tr[1]/td[1]/div')\n",
    "branch_data.click()\n",
    "\n",
    "shipper_data = driver.find_element(\n",
    "    By.XPATH, '//*[@id=\"data_out_form\"]/section/article[1]/table/tbody/tr[1]/td[2]/div')\n",
    "shipper_data.click()\n",
    "\n",
    "driver_data = driver.find_element(\n",
    "    By.XPATH, '//*[@id=\"data_out_form\"]/section/article[1]/table/tbody/tr[1]/td[3]/div')\n",
    "driver_data.click()\n",
    "\n",
    "point_information = driver.find_element(\n",
    "    By.XPATH, '//*[@id=\"data_out_form\"]/section/article[1]/table/tbody/tr[1]/td[4]/div')\n",
    "point_information.click()\n",
    "\n",
    "vehicle_data = driver.find_element(\n",
    "    By.XPATH, '//*[@id=\"data_out_form\"]/section/article[1]/table/tbody/tr[2]/td[1]/div')\n",
    "vehicle_data.click()\n",
    "\n",
    "goods_data = driver.find_element(\n",
    "    By.XPATH, '//*[@id=\"data_out_form\"]/section/article[1]/table/tbody/tr[2]/td[2]/div')\n",
    "goods_data.click()\n",
    "\n",
    "group_data = driver.find_element(\n",
    "    By.XPATH, '//*[@id=\"data_out_form\"]/section/article[1]/table/tbody/tr[2]/td[3]/div')\n",
    "group_data.click()\n",
    "\n",
    "for element in (options):\n",
    "    print(f\"{color.WARNING}Processing department: \" + str(element.text))\n",
    "    element.click()\n",
    "\n",
    "    # Handle the scrapper date - should be yester day of today\n",
    "    # Start date\n",
    "    sleep(1)\n",
    "    start_date = driver.find_element(By.ID, 'StartDate')\n",
    "    start_date.click()\n",
    "\n",
    "    index = 0\n",
    "\n",
    "    # When focus in the input of rhe calendar, the cursor is placed at the last 2 to the right\n",
    "    # need to move 2 steps further to move the cursor to the max right\n",
    "    sleep(1)\n",
    "    while index <= 2:\n",
    "        start_date.send_keys(Keys.ARROW_RIGHT)\n",
    "        index += 1\n",
    "\n",
    "    sleep(1)\n",
    "    while index <= 12:\n",
    "        start_date.send_keys(Keys.BACKSPACE)\n",
    "        index += 1\n",
    "\n",
    "    start_date.send_keys(scrapDataDate)\n",
    "\n",
    "    sleep(1)\n",
    "    resetActionKey()\n",
    "\n",
    "    # End date\n",
    "    end_date = driver.find_element(By.ID, 'EndDate')\n",
    "    end_date.click()\n",
    "\n",
    "    index = 0\n",
    "\n",
    "    while index <= 2:\n",
    "        end_date.send_keys(Keys.ARROW_RIGHT)\n",
    "        index += 1\n",
    "\n",
    "    while index <= 12:\n",
    "        end_date.send_keys(Keys.BACKSPACE)\n",
    "        index += 1\n",
    "\n",
    "    end_date.send_keys(scrapDataDate)\n",
    "\n",
    "    sleep(1)\n",
    "    resetActionKey()\n",
    "\n",
    "    driver.find_element(By.ID, 'F81_csvout_button').click()\n",
    "\n",
    "    try:\n",
    "        noDataNotifyModal = driver.find_element(\n",
    "            By.ID, 'function_window_F81_messagebox_0')\n",
    "    except NoSuchElementException:\n",
    "        existMessageBox = False\n",
    "\n",
    "    if existMessageBox == True:\n",
    "        driver.find_element(By.ID, 'msg_confirm').click()\n",
    "\n",
    "    print('--------------------------------------------------------------')\n",
    "    count += 1\n",
    "\n",
    "print('------------------------ End Registration Files ------------------------')"
   ]
  },
  {
   "cell_type": "code",
   "execution_count": 170,
   "metadata": {},
   "outputs": [
    {
     "name": "stdout",
     "output_type": "stream",
     "text": [
      "------------------------ Start Counting File ------------------------\n"
     ]
    }
   ],
   "source": [
    "print('------------------------ Start Counting File ------------------------')"
   ]
  },
  {
   "cell_type": "code",
   "execution_count": 171,
   "metadata": {},
   "outputs": [],
   "source": [
    "# Open Menu\n",
    "sleep(1)\n",
    "btn_menu = driver.find_element(By.CLASS_NAME, 'b_btn-menu')\n",
    "btn_menu.click()"
   ]
  },
  {
   "cell_type": "code",
   "execution_count": 172,
   "metadata": {},
   "outputs": [],
   "source": [
    "# Hover Function List\n",
    "sleep(1)\n",
    "function_list = driver.find_element(By.ID, 'F100')\n",
    "hover = ActionChains(driver).move_to_element(function_list)\n",
    "hover.perform()"
   ]
  },
  {
   "cell_type": "code",
   "execution_count": 173,
   "metadata": {},
   "outputs": [],
   "source": [
    "sleep(1)\n",
    "data_output = driver.find_element(By.ID, 'F81').click()"
   ]
  },
  {
   "cell_type": "code",
   "execution_count": 174,
   "metadata": {},
   "outputs": [],
   "source": [
    "listCountingFileOption = []\n",
    "\n",
    "temperature_data = driver.find_element(\n",
    "    By.XPATH, '//*[@id=\"data_out_form\"]/section/article[2]/table/tbody/tr[1]/td[1]/div'\n",
    ")\n",
    "\n",
    "speed_frequency_data = driver.find_element(\n",
    "    By.XPATH, '//*[@id=\"data_out_form\"]/section/article[2]/table/tbody/tr[1]/td[2]/div'\n",
    ")\n",
    "\n",
    "fee_data = driver.find_element(\n",
    "    By.XPATH, '//*[@id=\"data_out_form\"]/section/article[2]/table/tbody/tr[1]/td[3]/div'\n",
    ")\n",
    "\n",
    "fee_data_sub = driver.find_element(\n",
    "    By.XPATH, '//*[@id=\"data_out_form\"]/section/article[2]/table/tbody/tr[2]/td[3]/div'\n",
    ")\n",
    "\n",
    "engine_rotation_frequency_data = driver.find_element(\n",
    "    By.XPATH, '//*[@id=\"data_out_form\"]/section/article[2]/table/tbody/tr[1]/td[4]/div'\n",
    ")\n",
    "\n",
    "work_results_data = driver.find_element(\n",
    "    By.XPATH, '//*[@id=\"data_out_form\"]/section/article[2]/table/tbody/tr[3]/td[1]/div'\n",
    ")\n",
    "\n",
    "acc_dec_frequency_data = driver.find_element(\n",
    "    By.XPATH, '//*[@id=\"data_out_form\"]/section/article[2]/table/tbody/tr[3]/td[2]/div'\n",
    ")\n",
    "\n",
    "daily_report_data = driver.find_element(\n",
    "    By.XPATH, '//*[@id=\"data_out_form\"]/section/article[2]/table/tbody/tr[3]/td[3]/div'\n",
    ")\n",
    "\n",
    "daily_report_data_sub = driver.find_element(\n",
    "    By.XPATH, '//*[@id=\"data_out_form\"]/section/article[2]/table/tbody/tr[4]/td[3]/div'\n",
    ")\n",
    "\n",
    "gear_rate_frequency_data = driver.find_element(\n",
    "    By.XPATH, '//*[@id=\"data_out_form\"]/section/article[2]/table/tbody/tr[3]/td[4]/div'\n",
    ")\n",
    "\n",
    "sleepiness_detection_data = driver.find_element(\n",
    "    By.XPATH, '//*[@id=\"data_out_form\"]/section/article[2]/table/tbody/tr[5]/td[3]/div'\n",
    ")\n",
    "\n",
    "movie_upload_history_data = driver.find_element(\n",
    "    By.XPATH, '//*[@id=\"F81_VideoGetData\"]/div'\n",
    ")\n",
    "\n",
    "dsm_data = driver.find_element(\n",
    "    By.ID, 'F81_DMSRadio'\n",
    ")\n",
    "\n",
    "mobileye_data = driver.find_element(\n",
    "    By.ID, 'F81_MobileyeRadio'\n",
    ")\n",
    "\n",
    "listCountingFileOption = [\n",
    "    temperature_data,\n",
    "    speed_frequency_data,\n",
    "    fee_data,\n",
    "    fee_data_sub,\n",
    "    engine_rotation_frequency_data,\n",
    "    work_results_data,\n",
    "    acc_dec_frequency_data,\n",
    "    daily_report_data,\n",
    "    daily_report_data_sub,\n",
    "    gear_rate_frequency_data,\n",
    "    sleepiness_detection_data,\n",
    "    movie_upload_history_data,\n",
    "    dsm_data,\n",
    "    mobileye_data\n",
    "]"
   ]
  },
  {
   "cell_type": "code",
   "execution_count": null,
   "metadata": {},
   "outputs": [],
   "source": [
    "# Options in the select department\n",
    "# Select department\n",
    "sleep(1)\n",
    "select_department = driver.find_element(By.ID, 'F81eigyousyo_list')\n",
    "select_department.click()\n",
    "\n",
    "sleep(1)\n",
    "options = [item for item in select_department.find_elements(\n",
    "    By.TAG_NAME, 'option')]\n",
    "\n",
    "count = 0\n",
    "existMessageBox = True\n",
    "\n",
    "for element in (options):\n",
    "    print(f\"{color.WARNING}Processing department: \" + str(element.text))\n",
    "    element.click()\n",
    "\n",
    "    # Handle the scrapper date - should be yester day of today\n",
    "    # Start date\n",
    "    sleep(1)\n",
    "    start_date = driver.find_element(By.ID, 'StartDate')\n",
    "    start_date.click()\n",
    "\n",
    "    index = 0\n",
    "\n",
    "    # When focus in the input of rhe calendar, the cursor is placed at the last 2 to the right\n",
    "    # need to move 2 steps further to move the cursor to the max right\n",
    "    sleep(1)\n",
    "    while index <= 2:\n",
    "        start_date.send_keys(Keys.ARROW_RIGHT)\n",
    "        index += 1\n",
    "\n",
    "    sleep(1)\n",
    "    while index <= 12:\n",
    "        start_date.send_keys(Keys.BACKSPACE)\n",
    "        index += 1\n",
    "\n",
    "    start_date.send_keys(scrapDataDate)\n",
    "\n",
    "    sleep(1)\n",
    "    resetActionKey()\n",
    "\n",
    "    # End date\n",
    "    end_date = driver.find_element(By.ID, 'EndDate')\n",
    "    end_date.click()\n",
    "\n",
    "    index = 0\n",
    "\n",
    "    while index <= 2:\n",
    "        end_date.send_keys(Keys.ARROW_RIGHT)\n",
    "        index += 1\n",
    "\n",
    "    while index <= 12:\n",
    "        end_date.send_keys(Keys.BACKSPACE)\n",
    "        index += 1\n",
    "\n",
    "    end_date.send_keys(scrapDataDate)\n",
    "\n",
    "    sleep(1)\n",
    "    resetActionKey()\n",
    "\n",
    "    index = 0\n",
    "    while index < len(listCountingFileOption):\n",
    "        sleep(2)\n",
    "\n",
    "        listCountingFileOption[index].click()\n",
    "        \n",
    "        if index <= 9:\n",
    "            print('| ' + listCountingFileOption[index].text + ' |')\n",
    "        elif index == 10:\n",
    "            print('| DSM Data |')\n",
    "        elif index == 11:\n",
    "            print('| Mobileye Data |')\n",
    "        \n",
    "        if index == 2:\n",
    "            listCountingFileOption[3].click()\n",
    "        elif index == 6:\n",
    "            listCountingFileOption[7].click()\n",
    "        \n",
    "        sleep(10)\n",
    "        driver.find_element(By.ID, 'F81_csvout_button').click()\n",
    "        sleep(5)\n",
    "\n",
    "        try:\n",
    "            noDataNotifyModal = driver.find_element(\n",
    "                By.ID, 'function_window_F81_messagebox_0')\n",
    "        except NoSuchElementException:\n",
    "            existMessageBox = False\n",
    "\n",
    "        if existMessageBox == True:\n",
    "            driver.find_element(By.ID, 'msg_confirm').click()\n",
    "            sleep(2)\n",
    "       \n",
    "        if index == 2:\n",
    "            index += 2\n",
    "        elif index == 6:\n",
    "            index += 2\n",
    "        else:\n",
    "            index += 1\n",
    "\n",
    "    print('--------------------------------------------------------------')\n",
    "    count += 1\n",
    "\n",
    "print('------------------------ End Counting Files ------------------------')"
   ]
  }
 ],
 "metadata": {
  "interpreter": {
   "hash": "7cec9ff813d324916502b577f120daa67d5c00aa44132d5e060520892a31b35b"
  },
  "kernelspec": {
   "display_name": "Python 3.10.0 64-bit",
   "language": "python",
   "name": "python3"
  },
  "language_info": {
   "name": "python",
   "version": "3.10.0"
  },
  "orig_nbformat": 4
 },
 "nbformat": 4,
 "nbformat_minor": 2
}
