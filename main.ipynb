{
 "cells": [
  {
   "cell_type": "code",
   "execution_count": 139,
   "metadata": {},
   "outputs": [],
   "source": [
    "from selenium import webdriver\n",
    "from selenium.webdriver.common.by import By\n",
    "from selenium.webdriver.common.keys import Keys\n",
    "from selenium.webdriver.common.action_chains import ActionChains\n",
    "import datetime\n",
    "from time import sleep\n",
    "import calendar\n",
    "from selenium.webdriver.support.ui import Select"
   ]
  },
  {
   "cell_type": "code",
   "execution_count": null,
   "metadata": {},
   "outputs": [],
   "source": [
    "# ----------------------- Start Scrapper -----------------------"
   ]
  },
  {
   "cell_type": "code",
   "execution_count": 140,
   "metadata": {},
   "outputs": [],
   "source": [
    "# Initialize Chrome\n",
    "driver = webdriver.Chrome()\n",
    "driver.maximize_window()"
   ]
  },
  {
   "cell_type": "code",
   "execution_count": 141,
   "metadata": {},
   "outputs": [],
   "source": [
    "# Navigate to D1D system\n",
    "url = 'http://itpv2.transtron.fujitsu.com/'\n",
    "driver.get(url)"
   ]
  },
  {
   "cell_type": "code",
   "execution_count": 142,
   "metadata": {},
   "outputs": [],
   "source": [
    "# Fill login information\n",
    "sleep(1)\n",
    "input_field = driver.find_element(By.ID, 'userid')\n",
    "input_field.send_keys('izmb-free')\n",
    "\n",
    "password_field = driver.find_element(By.ID, 'password')\n",
    "password_field.send_keys('izumi001')"
   ]
  },
  {
   "cell_type": "code",
   "execution_count": 143,
   "metadata": {},
   "outputs": [],
   "source": [
    "# Login\n",
    "sleep(1)\n",
    "btn_login = driver.find_element(By.ID, 'login')\n",
    "btn_login.click()"
   ]
  },
  {
   "cell_type": "code",
   "execution_count": 144,
   "metadata": {},
   "outputs": [],
   "source": [
    "# Waiting the client loading\n",
    "sleep(60)"
   ]
  },
  {
   "cell_type": "code",
   "execution_count": 145,
   "metadata": {},
   "outputs": [],
   "source": [
    "def joinYMD(string):\n",
    "    year = string.split('-')[0]\n",
    "    month = string.split('-')[1]\n",
    "    day = string.split('-')[2]\n",
    "    return str(year) + '/' + str(month) + '/' + str(day)"
   ]
  },
  {
   "cell_type": "code",
   "execution_count": 146,
   "metadata": {},
   "outputs": [],
   "source": [
    "# Get yesterday\n",
    "today = datetime.date.today()\n",
    "yesterday = today - datetime.timedelta(days=1)"
   ]
  },
  {
   "cell_type": "code",
   "execution_count": 147,
   "metadata": {},
   "outputs": [],
   "source": [
    "# Transform the format of the scrap date\n",
    "scrapDataDate = joinYMD(str(yesterday))"
   ]
  },
  {
   "cell_type": "code",
   "execution_count": 159,
   "metadata": {},
   "outputs": [],
   "source": [
    "# Reset action\n",
    "def resetActionKey():\n",
    "    resetSpace =  driver.find_element(By.XPATH, '//*[@id=\"F04_mainview\"]/div[2]/div[1]')\n",
    "    resetSpace.click()"
   ]
  },
  {
   "cell_type": "code",
   "execution_count": 149,
   "metadata": {},
   "outputs": [],
   "source": [
    "# Function to get the correct xpath of each calendar\n",
    "def getCurrentCalendarXPATH(calendar_id, year, month):\n",
    "    return \"//table[@id='\" + calendar_id + \"_calendar_start_\" + year + '_' + month + \"']//a\""
   ]
  },
  {
   "cell_type": "code",
   "execution_count": 169,
   "metadata": {},
   "outputs": [],
   "source": [
    "# Open Menu\n",
    "sleep(1)\n",
    "btn_menu = driver.find_element(By.CLASS_NAME, 'b_btn-menu')\n",
    "btn_menu.click()"
   ]
  },
  {
   "cell_type": "code",
   "execution_count": 170,
   "metadata": {},
   "outputs": [],
   "source": [
    "# Hover Function List\n",
    "sleep(1)\n",
    "function_list = driver.find_element(By.ID, 'F100')\n",
    "hover = ActionChains(driver).move_to_element(function_list)\n",
    "hover.perform()"
   ]
  },
  {
   "cell_type": "code",
   "execution_count": 171,
   "metadata": {},
   "outputs": [],
   "source": [
    "# Open Results Dropdown\n",
    "sleep(1)\n",
    "results_menu = driver.find_element(By.ID, 'F40_dl')\n",
    "results_menu.click()"
   ]
  },
  {
   "cell_type": "code",
   "execution_count": 172,
   "metadata": {},
   "outputs": [],
   "source": [
    "# ----------------------- Start Vehicle Expense Report -----------------------"
   ]
  },
  {
   "cell_type": "code",
   "execution_count": 173,
   "metadata": {},
   "outputs": [],
   "source": [
    "# Vehicel Expense Report\n",
    "sleep(1)\n",
    "vehicle_expense_report = driver.find_element(By.XPATH, '//*[@id=\"F45\"]')\n",
    "vehicle_expense_report.click()"
   ]
  },
  {
   "cell_type": "code",
   "execution_count": 174,
   "metadata": {},
   "outputs": [],
   "source": [
    "# Cancel button to ensure the menu is turn off\n",
    "sleep(10)\n",
    "resetActionKey()"
   ]
  },
  {
   "cell_type": "code",
   "execution_count": 175,
   "metadata": {},
   "outputs": [],
   "source": [
    "# Checkbox button\n",
    "sleep(5)\n",
    "checkbox = driver.find_element(By.XPATH, '//*[@id=\"F45_eigyousyoLevel_view\"]/li/div/span/div/div').click()"
   ]
  },
  {
   "cell_type": "code",
   "execution_count": 176,
   "metadata": {},
   "outputs": [],
   "source": [
    "# Handle the Start Date\n",
    "sleep(1)\n",
    "inputStartDate = driver.find_element(By.ID, \"F45_StartDate\")\n",
    "inputStartDate.click()\n",
    "\n",
    "index = 0\n",
    "\n",
    "sleep(1)\n",
    "while index <= 2:\n",
    "    inputStartDate.send_keys(Keys.ARROW_RIGHT)\n",
    "    index += 1\n",
    "\n",
    "sleep(1)\n",
    "while index <= 12:\n",
    "    inputStartDate.send_keys(Keys.BACKSPACE)\n",
    "    index += 1\n",
    "\n",
    "inputStartDate.send_keys(scrapDataDate)\n",
    "\n",
    "sleep(2)\n",
    "resetActionKey()"
   ]
  },
  {
   "cell_type": "code",
   "execution_count": 177,
   "metadata": {},
   "outputs": [],
   "source": [
    "# Handle the End Date\n",
    "sleep(1)\n",
    "inputEndDate = driver.find_element(By.ID, \"F45_EndDate\")\n",
    "inputEndDate.click()\n",
    "\n",
    "index = 0\n",
    "\n",
    "sleep(1)\n",
    "while index <= 2:\n",
    "    inputEndDate.send_keys(Keys.ARROW_RIGHT)\n",
    "    index += 1\n",
    "\n",
    "sleep(1)\n",
    "while index <= 12:\n",
    "    inputEndDate.send_keys(Keys.BACKSPACE)\n",
    "    index += 1\n",
    "\n",
    "inputEndDate.send_keys(scrapDataDate)\n",
    "\n",
    "sleep(2)\n",
    "resetActionKey()"
   ]
  },
  {
   "cell_type": "code",
   "execution_count": 178,
   "metadata": {},
   "outputs": [],
   "source": [
    "# Dowload button\n",
    "sleep(2)\n",
    "driver.find_element(By.ID, 'F45_CSV_button').click()"
   ]
  },
  {
   "cell_type": "code",
   "execution_count": 179,
   "metadata": {},
   "outputs": [],
   "source": [
    "# Waiting for the handling and dowload process\n",
    "sleep(60)"
   ]
  },
  {
   "cell_type": "code",
   "execution_count": 180,
   "metadata": {},
   "outputs": [],
   "source": [
    "# ----------------------- End Vehicle Expense Report -----------------------"
   ]
  },
  {
   "cell_type": "code",
   "execution_count": 181,
   "metadata": {},
   "outputs": [],
   "source": [
    "# ----------------------- Start Driver Expense Report -----------------------"
   ]
  },
  {
   "cell_type": "code",
   "execution_count": 182,
   "metadata": {},
   "outputs": [],
   "source": [
    "\n",
    "# Open Menu\n",
    "sleep(1)\n",
    "btn_menu = driver.find_element(By.CLASS_NAME, 'b_btn-menu')\n",
    "btn_menu.click()"
   ]
  },
  {
   "cell_type": "code",
   "execution_count": 183,
   "metadata": {},
   "outputs": [],
   "source": [
    "# Hover Function List\n",
    "sleep(1)\n",
    "function_list = driver.find_element(By.ID, 'F100')\n",
    "hover = ActionChains(driver).move_to_element(function_list)\n",
    "hover.perform()"
   ]
  },
  {
   "cell_type": "code",
   "execution_count": 184,
   "metadata": {},
   "outputs": [],
   "source": [
    "# Driver Expense Report\n",
    "sleep(1)\n",
    "driver_expense_report = driver.find_element(By.XPATH, '//*[@id=\"F46\"]')\n",
    "driver_expense_report.click()"
   ]
  },
  {
   "cell_type": "code",
   "execution_count": 186,
   "metadata": {},
   "outputs": [],
   "source": [
    "# Cancel button to ensure the menu is turn off\n",
    "sleep(10)\n",
    "resetActionKey()"
   ]
  },
  {
   "cell_type": "code",
   "execution_count": 187,
   "metadata": {},
   "outputs": [],
   "source": [
    "# Checkbox button\n",
    "sleep(5)\n",
    "checkbox = driver.find_element(By.XPATH, '//*[@id=\"F46_eigyousyoLevel_view\"]/li/div/span/div').click()"
   ]
  },
  {
   "cell_type": "code",
   "execution_count": 188,
   "metadata": {},
   "outputs": [],
   "source": [
    "# Handle the Start Date\n",
    "sleep(1)\n",
    "inputStartDate = driver.find_element(By.ID, \"F46_from\")\n",
    "inputStartDate.click()\n",
    "\n",
    "index = 0\n",
    "\n",
    "sleep(1)\n",
    "while index <= 2:\n",
    "    inputStartDate.send_keys(Keys.ARROW_RIGHT)\n",
    "    index += 1\n",
    "\n",
    "sleep(1)\n",
    "while index <= 12:\n",
    "    inputStartDate.send_keys(Keys.BACKSPACE)\n",
    "    index += 1\n",
    "\n",
    "inputStartDate.send_keys(scrapDataDate)\n",
    "\n",
    "sleep(2)\n",
    "resetActionKey()"
   ]
  },
  {
   "cell_type": "code",
   "execution_count": 189,
   "metadata": {},
   "outputs": [],
   "source": [
    "# Handle the End Date\n",
    "sleep(1)\n",
    "inputEndDate = driver.find_element(By.ID, \"F46_to\")\n",
    "inputEndDate.click()\n",
    "\n",
    "index = 0\n",
    "\n",
    "sleep(1)\n",
    "while index <= 2:\n",
    "    inputEndDate.send_keys(Keys.ARROW_RIGHT)\n",
    "    index += 1\n",
    "\n",
    "sleep(1)\n",
    "while index <= 12:\n",
    "    inputEndDate.send_keys(Keys.BACKSPACE)\n",
    "    index += 1\n",
    "\n",
    "inputEndDate.send_keys(scrapDataDate)\n",
    "\n",
    "sleep(2)\n",
    "resetActionKey()"
   ]
  },
  {
   "cell_type": "code",
   "execution_count": 190,
   "metadata": {},
   "outputs": [],
   "source": [
    "# Dowload button\n",
    "sleep(2)\n",
    "driver.find_element(By.ID, 'F46_csvout_button').click()"
   ]
  },
  {
   "cell_type": "code",
   "execution_count": 191,
   "metadata": {},
   "outputs": [],
   "source": [
    "# Waiting for the handling and dowload process\n",
    "sleep(60)"
   ]
  },
  {
   "cell_type": "code",
   "execution_count": 192,
   "metadata": {},
   "outputs": [],
   "source": [
    "# ----------------------- End Driver Expense Report -----------------------"
   ]
  },
  {
   "cell_type": "code",
   "execution_count": 193,
   "metadata": {},
   "outputs": [],
   "source": [
    "# ----------------------- Start Driving Report by Driver -----------------------"
   ]
  },
  {
   "cell_type": "code",
   "execution_count": 194,
   "metadata": {},
   "outputs": [],
   "source": [
    "# Open Menu\n",
    "sleep(1)\n",
    "btn_menu = driver.find_element(By.CLASS_NAME, 'b_btn-menu')\n",
    "btn_menu.click()"
   ]
  },
  {
   "cell_type": "code",
   "execution_count": 195,
   "metadata": {},
   "outputs": [],
   "source": [
    "# Hover Function List\n",
    "sleep(1)\n",
    "function_list = driver.find_element(By.ID, 'F100')\n",
    "hover = ActionChains(driver).move_to_element(function_list)\n",
    "hover.perform()"
   ]
  },
  {
   "cell_type": "code",
   "execution_count": 196,
   "metadata": {},
   "outputs": [],
   "source": [
    "# Driving Report by Driver\n",
    "sleep(1)\n",
    "driving_report_by_driver = driver.find_element(By.XPATH, '//*[@id=\"F42\"]')\n",
    "driving_report_by_driver.click()"
   ]
  },
  {
   "cell_type": "code",
   "execution_count": 197,
   "metadata": {},
   "outputs": [],
   "source": [
    "# Cancel button to ensure the menu is turn off\n",
    "sleep(10)\n",
    "resetActionKey()"
   ]
  },
  {
   "cell_type": "code",
   "execution_count": 198,
   "metadata": {},
   "outputs": [],
   "source": [
    "# Checkbox button\n",
    "sleep(5)\n",
    "checkbox = driver.find_element(By.XPATH, '//*[@id=\"F42_eigyousyoLevel_view\"]/li/div/span/div').click()"
   ]
  },
  {
   "cell_type": "code",
   "execution_count": 199,
   "metadata": {},
   "outputs": [],
   "source": [
    "# Handle the Start Date\n",
    "sleep(1)\n",
    "inputStartDate = driver.find_element(By.ID, \"F42_from\")\n",
    "inputStartDate.click()\n",
    "\n",
    "index = 0\n",
    "\n",
    "sleep(1)\n",
    "while index <= 2:\n",
    "    inputStartDate.send_keys(Keys.ARROW_RIGHT)\n",
    "    index += 1\n",
    "\n",
    "sleep(1)\n",
    "while index <= 12:\n",
    "    inputStartDate.send_keys(Keys.BACKSPACE)\n",
    "    index += 1\n",
    "\n",
    "inputStartDate.send_keys(scrapDataDate)\n",
    "\n",
    "sleep(2)\n",
    "resetActionKey()"
   ]
  },
  {
   "cell_type": "code",
   "execution_count": 200,
   "metadata": {},
   "outputs": [],
   "source": [
    "# Handle the End Date\n",
    "sleep(1)\n",
    "inputEndDate = driver.find_element(By.ID, \"F42_to\")\n",
    "inputEndDate.click()\n",
    "\n",
    "index = 0\n",
    "\n",
    "sleep(1)\n",
    "while index <= 2:\n",
    "    inputEndDate.send_keys(Keys.ARROW_RIGHT)\n",
    "    index += 1\n",
    "\n",
    "sleep(1)\n",
    "while index <= 12:\n",
    "    inputEndDate.send_keys(Keys.BACKSPACE)\n",
    "    index += 1\n",
    "\n",
    "inputEndDate.send_keys(scrapDataDate)\n",
    "\n",
    "sleep(2)\n",
    "resetActionKey()"
   ]
  },
  {
   "cell_type": "code",
   "execution_count": 201,
   "metadata": {},
   "outputs": [],
   "source": [
    "# Dowload button\n",
    "sleep(2)\n",
    "driver.find_element(By.ID, 'F42_csvout_button').click()"
   ]
  },
  {
   "cell_type": "code",
   "execution_count": 202,
   "metadata": {},
   "outputs": [],
   "source": [
    "# Waiting for the handling and dowload process\n",
    "sleep(60)"
   ]
  },
  {
   "cell_type": "code",
   "execution_count": 203,
   "metadata": {},
   "outputs": [],
   "source": [
    "# ----------------------- End Driving Report by Driver -----------------------"
   ]
  },
  {
   "cell_type": "code",
   "execution_count": 204,
   "metadata": {},
   "outputs": [],
   "source": [
    "# ----------------------- Start Driver Report by Vehicle -----------------------"
   ]
  },
  {
   "cell_type": "code",
   "execution_count": 205,
   "metadata": {},
   "outputs": [],
   "source": [
    "# Open Menu\n",
    "sleep(1)\n",
    "btn_menu = driver.find_element(By.CLASS_NAME, 'b_btn-menu')\n",
    "btn_menu.click()"
   ]
  },
  {
   "cell_type": "code",
   "execution_count": 206,
   "metadata": {},
   "outputs": [],
   "source": [
    "# Hover Function List\n",
    "sleep(1)\n",
    "function_list = driver.find_element(By.ID, 'F100')\n",
    "hover = ActionChains(driver).move_to_element(function_list)\n",
    "hover.perform()"
   ]
  },
  {
   "cell_type": "code",
   "execution_count": 207,
   "metadata": {},
   "outputs": [],
   "source": [
    "# Driver Report by Vehicle\n",
    "sleep(1)\n",
    "driver_report_by_vehicle = driver.find_element(By.XPATH, '//*[@id=\"F43\"]')\n",
    "driver_report_by_vehicle.click()"
   ]
  },
  {
   "cell_type": "code",
   "execution_count": 208,
   "metadata": {},
   "outputs": [],
   "source": [
    "# Cancel button to ensure the menu is turn off\n",
    "sleep(10)\n",
    "resetActionKey()"
   ]
  },
  {
   "cell_type": "code",
   "execution_count": 209,
   "metadata": {},
   "outputs": [],
   "source": [
    "# Checkbox button\n",
    "sleep(5)\n",
    "checkbox = driver.find_element(By.XPATH, '//*[@id=\"F43_eigyousyoLevel_view\"]/li/div/span/div').click()"
   ]
  },
  {
   "cell_type": "code",
   "execution_count": 210,
   "metadata": {},
   "outputs": [],
   "source": [
    "# Handle the Start Date\n",
    "sleep(1)\n",
    "inputStartDate = driver.find_element(By.ID, \"F43_StartDate\")\n",
    "inputStartDate.click()\n",
    "\n",
    "index = 0\n",
    "\n",
    "sleep(1)\n",
    "while index <= 2:\n",
    "    inputStartDate.send_keys(Keys.ARROW_RIGHT)\n",
    "    index += 1\n",
    "\n",
    "sleep(1)\n",
    "while index <= 12:\n",
    "    inputStartDate.send_keys(Keys.BACKSPACE)\n",
    "    index += 1\n",
    "\n",
    "inputStartDate.send_keys(scrapDataDate)\n",
    "\n",
    "sleep(2)\n",
    "resetActionKey()"
   ]
  },
  {
   "cell_type": "code",
   "execution_count": 211,
   "metadata": {},
   "outputs": [],
   "source": [
    "# Handle the End Date\n",
    "sleep(1)\n",
    "inputEndDate = driver.find_element(By.ID, \"F43_EndDate\")\n",
    "inputEndDate.click()\n",
    "\n",
    "index = 0\n",
    "\n",
    "sleep(1)\n",
    "while index <= 2:\n",
    "    inputEndDate.send_keys(Keys.ARROW_RIGHT)\n",
    "    index += 1\n",
    "\n",
    "sleep(1)\n",
    "while index <= 12:\n",
    "    inputEndDate.send_keys(Keys.BACKSPACE)\n",
    "    index += 1\n",
    "\n",
    "inputEndDate.send_keys(scrapDataDate)\n",
    "\n",
    "sleep(2)\n",
    "resetActionKey()"
   ]
  },
  {
   "cell_type": "code",
   "execution_count": 212,
   "metadata": {},
   "outputs": [],
   "source": [
    "# Dowload button\n",
    "sleep(2)\n",
    "driver.find_element(By.ID, 'F43_CSV_button').click()"
   ]
  },
  {
   "cell_type": "code",
   "execution_count": 213,
   "metadata": {},
   "outputs": [],
   "source": [
    "# Waiting for the handling and dowload process\n",
    "sleep(60)"
   ]
  },
  {
   "cell_type": "code",
   "execution_count": 214,
   "metadata": {},
   "outputs": [],
   "source": [
    "# ----------------------- End Driver Report by Vehicle -----------------------"
   ]
  },
  {
   "cell_type": "code",
   "execution_count": 215,
   "metadata": {},
   "outputs": [],
   "source": [
    "# ----------------------- Start Yearly Mileage Report -----------------------"
   ]
  },
  {
   "cell_type": "code",
   "execution_count": 216,
   "metadata": {},
   "outputs": [],
   "source": [
    "# Open Menu\n",
    "sleep(1)\n",
    "btn_menu = driver.find_element(By.CLASS_NAME, 'b_btn-menu')\n",
    "btn_menu.click()"
   ]
  },
  {
   "cell_type": "code",
   "execution_count": 217,
   "metadata": {},
   "outputs": [],
   "source": [
    "# Hover Function List\n",
    "sleep(1)\n",
    "function_list = driver.find_element(By.ID, 'F100')\n",
    "hover = ActionChains(driver).move_to_element(function_list)\n",
    "hover.perform()"
   ]
  },
  {
   "cell_type": "code",
   "execution_count": 218,
   "metadata": {},
   "outputs": [],
   "source": [
    "# Yearly Mileage Report\n",
    "sleep(1)\n",
    "yearly_mileage_report = driver.find_element(By.XPATH, '//*[@id=\"F44\"]')\n",
    "yearly_mileage_report.click()"
   ]
  },
  {
   "cell_type": "code",
   "execution_count": 219,
   "metadata": {},
   "outputs": [],
   "source": [
    "# Cancel button to ensure the menu is turn off\n",
    "sleep(10)\n",
    "resetActionKey()"
   ]
  },
  {
   "cell_type": "code",
   "execution_count": 220,
   "metadata": {},
   "outputs": [],
   "source": [
    "# Checkbox button\n",
    "sleep(5)\n",
    "checkbox = driver.find_element(By.XPATH, '//*[@id=\"F44_eigyousyoLevel_view\"]/li/div/span/div').click()"
   ]
  },
  {
   "cell_type": "code",
   "execution_count": 221,
   "metadata": {},
   "outputs": [],
   "source": [
    "sleep(1)\n",
    "\n",
    "# Open dropdown option Trip Start Year\n",
    "trip_start_year = driver.find_element(By.ID, 'ComboBox_StartYear')\n",
    "trip_start_year.click()\n",
    "\n",
    "# Set the year to current year\n",
    "sleep(1)\n",
    "select_trip_start_year = Select(trip_start_year)\n",
    "select_trip_start_year.select_by_visible_text(str(today.year))\n",
    "\n",
    "# Open dropdown option Trip Start Month\n",
    "trip_start_month = driver.find_element(By.ID, 'ComboBox_StartMonth')\n",
    "trip_start_month.click()\n",
    "\n",
    "# Set the year to current year\n",
    "sleep(1)\n",
    "select_trip_start_month = Select(trip_start_month)\n",
    "select_trip_start_month.select_by_visible_text(str(today.month))\n",
    "\n",
    "# Open dropdown option Trip End Year\n",
    "trip_end_year = driver.find_element(By.ID, 'ComboBox_EndYear')\n",
    "trip_end_year.click()\n",
    "\n",
    "# Set the year to current year\n",
    "sleep(1)\n",
    "select_trip_end_year = Select(trip_end_year)\n",
    "select_trip_end_year.select_by_visible_text(str(today.year))\n",
    "\n",
    "# Open dropdown option Trip End Month\n",
    "trip_end_month = driver.find_element(By.ID, 'ComboBox_EndMonth')\n",
    "trip_end_month.click()\n",
    "\n",
    "# Set the year to current year\n",
    "sleep(1)\n",
    "select_trip_end_month = Select(trip_end_month)\n",
    "select_trip_end_month.select_by_visible_text(str(today.month))"
   ]
  },
  {
   "cell_type": "code",
   "execution_count": 222,
   "metadata": {},
   "outputs": [],
   "source": [
    "# Dowload button\n",
    "sleep(2)\n",
    "driver.find_element(By.ID, 'F33_CSV_button').click()"
   ]
  },
  {
   "cell_type": "code",
   "execution_count": 223,
   "metadata": {},
   "outputs": [],
   "source": [
    "# Waiting for the handling and dowload process\n",
    "sleep(60)"
   ]
  },
  {
   "cell_type": "code",
   "execution_count": 224,
   "metadata": {},
   "outputs": [],
   "source": [
    "# ----------------------- End Yearly Mileage Report -----------------------"
   ]
  },
  {
   "cell_type": "code",
   "execution_count": 225,
   "metadata": {},
   "outputs": [],
   "source": [
    "# ----------------------- Start Digital Tachograph Data -----------------------"
   ]
  },
  {
   "cell_type": "code",
   "execution_count": null,
   "metadata": {},
   "outputs": [],
   "source": [
    "# Open Menu\n",
    "sleep(1)\n",
    "btn_menu = driver.find_element(By.CLASS_NAME, 'b_btn-menu')\n",
    "btn_menu.click()"
   ]
  },
  {
   "cell_type": "code",
   "execution_count": null,
   "metadata": {},
   "outputs": [],
   "source": [
    "# Hover Function List\n",
    "sleep(1)\n",
    "function_list = driver.find_element(By.ID, 'F100')\n",
    "hover = ActionChains(driver).move_to_element(function_list)\n",
    "hover.perform()"
   ]
  },
  {
   "cell_type": "code",
   "execution_count": null,
   "metadata": {},
   "outputs": [],
   "source": [
    "# Digital Tachograph Data\n",
    "sleep(1)\n",
    "digital_tachograph_data = driver.find_element(By.XPATH, '//*[@id=\"F49\"]')\n",
    "digital_tachograph_data.click()"
   ]
  },
  {
   "cell_type": "code",
   "execution_count": null,
   "metadata": {},
   "outputs": [],
   "source": [
    "# Cancel button to ensure the menu is turn off\n",
    "sleep(10)\n",
    "resetActionKey()"
   ]
  },
  {
   "cell_type": "code",
   "execution_count": 226,
   "metadata": {},
   "outputs": [],
   "source": [
    "# Checkbox button\n",
    "sleep(5)\n",
    "checkbox = driver.find_element(By.XPATH, '//*[@id=\"F49_eigyousyoLevel_view\"]/li/div/span/div').click()"
   ]
  },
  {
   "cell_type": "code",
   "execution_count": 233,
   "metadata": {},
   "outputs": [],
   "source": [
    "# Handle the Start Date\n",
    "sleep(1)\n",
    "inputStartDate = driver.find_element(By.ID, \"F49_from\")\n",
    "inputStartDate.click()\n",
    "\n",
    "index = 0\n",
    "\n",
    "sleep(1)\n",
    "while index <= 2:\n",
    "    inputStartDate.send_keys(Keys.ARROW_RIGHT)\n",
    "    index += 1\n",
    "\n",
    "sleep(1)\n",
    "while index <= 12:\n",
    "    inputStartDate.send_keys(Keys.BACKSPACE)\n",
    "    index += 1\n",
    "\n",
    "inputStartDate.send_keys(scrapDataDate)\n",
    "\n",
    "sleep(2)\n",
    "resetActionKey()"
   ]
  },
  {
   "cell_type": "code",
   "execution_count": 234,
   "metadata": {},
   "outputs": [],
   "source": [
    "# Dowload button\n",
    "sleep(2)\n",
    "driver.find_element(By.ID, 'F49_get_button').click()"
   ]
  },
  {
   "cell_type": "code",
   "execution_count": 236,
   "metadata": {},
   "outputs": [],
   "source": [
    "# Waiting for the handling and dowload process\n",
    "sleep(60)"
   ]
  },
  {
   "cell_type": "code",
   "execution_count": 237,
   "metadata": {},
   "outputs": [],
   "source": [
    "# ----------------------- End Digital Tachograph Data -----------------------"
   ]
  },
  {
   "cell_type": "code",
   "execution_count": 238,
   "metadata": {},
   "outputs": [],
   "source": [
    "# ----------------------- Start Safety Driving Ranking Report -----------------------"
   ]
  },
  {
   "cell_type": "code",
   "execution_count": 239,
   "metadata": {},
   "outputs": [],
   "source": [
    "# Open Menu\n",
    "sleep(1)\n",
    "btn_menu = driver.find_element(By.CLASS_NAME, 'b_btn-menu')\n",
    "btn_menu.click()"
   ]
  },
  {
   "cell_type": "code",
   "execution_count": 240,
   "metadata": {},
   "outputs": [],
   "source": [
    "# Hover Function List\n",
    "sleep(1)\n",
    "function_list = driver.find_element(By.ID, 'F100')\n",
    "hover = ActionChains(driver).move_to_element(function_list)\n",
    "hover.perform()"
   ]
  },
  {
   "cell_type": "code",
   "execution_count": 241,
   "metadata": {},
   "outputs": [],
   "source": [
    "# Safery Driving Ranking Report\n",
    "sleep(1)\n",
    "safety_driving_ranking_report = driver.find_element(By.XPATH, '//*[@id=\"F41\"]')\n",
    "safety_driving_ranking_report.click()"
   ]
  },
  {
   "cell_type": "code",
   "execution_count": 242,
   "metadata": {},
   "outputs": [],
   "source": [
    "# Cancel button to ensure the menu is turn off\n",
    "sleep(10)\n",
    "resetActionKey()"
   ]
  },
  {
   "cell_type": "code",
   "execution_count": 244,
   "metadata": {},
   "outputs": [],
   "source": [
    "# Checkbox button\n",
    "sleep(5)\n",
    "checkbox = driver.find_element(By.XPATH, '//*[@id=\"F41_eigyousyoLevel_view\"]/li/div/span/div').click()"
   ]
  },
  {
   "cell_type": "code",
   "execution_count": 245,
   "metadata": {},
   "outputs": [],
   "source": [
    "# Report check button\n",
    "sleep(5)\n",
    "report_check = driver.find_element(By.XPATH, '//*[@id=\"F41_main_form\"]/p[2]/div').click()"
   ]
  },
  {
   "cell_type": "code",
   "execution_count": 246,
   "metadata": {},
   "outputs": [],
   "source": [
    "# Handle the Start Date\n",
    "sleep(1)\n",
    "inputStartDate = driver.find_element(By.ID, \"F41_StartDate\")\n",
    "inputStartDate.click()\n",
    "\n",
    "index = 0\n",
    "\n",
    "sleep(1)\n",
    "while index <= 2:\n",
    "    inputStartDate.send_keys(Keys.ARROW_RIGHT)\n",
    "    index += 1\n",
    "\n",
    "sleep(1)\n",
    "while index <= 12:\n",
    "    inputStartDate.send_keys(Keys.BACKSPACE)\n",
    "    index += 1\n",
    "\n",
    "inputStartDate.send_keys(scrapDataDate)\n",
    "\n",
    "sleep(2)\n",
    "resetActionKey()"
   ]
  },
  {
   "cell_type": "code",
   "execution_count": 247,
   "metadata": {},
   "outputs": [],
   "source": [
    "# Handle the End Date\n",
    "sleep(1)\n",
    "inputEndDate = driver.find_element(By.ID, \"F41_EndDate\")\n",
    "inputEndDate.click()\n",
    "\n",
    "index = 0\n",
    "\n",
    "sleep(1)\n",
    "while index <= 2:\n",
    "    inputEndDate.send_keys(Keys.ARROW_RIGHT)\n",
    "    index += 1\n",
    "\n",
    "sleep(1)\n",
    "while index <= 12:\n",
    "    inputEndDate.send_keys(Keys.BACKSPACE)\n",
    "    index += 1\n",
    "\n",
    "inputEndDate.send_keys(scrapDataDate)\n",
    "\n",
    "sleep(2)\n",
    "resetActionKey()"
   ]
  },
  {
   "cell_type": "code",
   "execution_count": 248,
   "metadata": {},
   "outputs": [],
   "source": [
    "# Dowload button\n",
    "sleep(2)\n",
    "driver.find_element(By.ID, 'F41_CSV_button').click()"
   ]
  },
  {
   "cell_type": "code",
   "execution_count": 249,
   "metadata": {},
   "outputs": [],
   "source": [
    "# Waiting for the handling and dowload process\n",
    "sleep(60)"
   ]
  },
  {
   "cell_type": "code",
   "execution_count": 250,
   "metadata": {},
   "outputs": [],
   "source": [
    "# ----------------------- End Safety Driving Ranking Report -----------------------"
   ]
  },
  {
   "cell_type": "code",
   "execution_count": 251,
   "metadata": {},
   "outputs": [],
   "source": [
    "# ----------------------- Start Driver Report -----------------------"
   ]
  },
  {
   "cell_type": "code",
   "execution_count": 252,
   "metadata": {},
   "outputs": [],
   "source": [
    "# Open Menu\n",
    "sleep(1)\n",
    "btn_menu = driver.find_element(By.CLASS_NAME, 'b_btn-menu')\n",
    "btn_menu.click()"
   ]
  },
  {
   "cell_type": "code",
   "execution_count": 253,
   "metadata": {},
   "outputs": [],
   "source": [
    "# Hover Function List\n",
    "sleep(1)\n",
    "function_list = driver.find_element(By.ID, 'F100')\n",
    "hover = ActionChains(driver).move_to_element(function_list)\n",
    "hover.perform()"
   ]
  },
  {
   "cell_type": "code",
   "execution_count": 254,
   "metadata": {},
   "outputs": [],
   "source": [
    "# Driver Report\n",
    "sleep(1)\n",
    "driver_report = driver.find_element(By.XPATH, '//*[@id=\"F4B\"]')\n",
    "driver_report.click()"
   ]
  },
  {
   "cell_type": "code",
   "execution_count": 255,
   "metadata": {},
   "outputs": [],
   "source": [
    "# Cancel button to ensure the menu is turn off\n",
    "sleep(10)\n",
    "resetActionKey()"
   ]
  },
  {
   "cell_type": "code",
   "execution_count": 256,
   "metadata": {},
   "outputs": [],
   "source": [
    "# Checkbox button\n",
    "sleep(5)\n",
    "checkbox = driver.find_element(By.XPATH, '//*[@id=\"F41_eigyousyoLevel_view\"]/li/div/span/div').click()"
   ]
  },
  {
   "cell_type": "code",
   "execution_count": 257,
   "metadata": {},
   "outputs": [],
   "source": [
    "# Handle the Start Date\n",
    "sleep(1)\n",
    "inputStartDate = driver.find_element(By.ID, \"F41_StartDate\")\n",
    "inputStartDate.click()\n",
    "\n",
    "index = 0\n",
    "\n",
    "sleep(1)\n",
    "while index <= 2:\n",
    "    inputStartDate.send_keys(Keys.ARROW_RIGHT)\n",
    "    index += 1\n",
    "\n",
    "sleep(1)\n",
    "while index <= 12:\n",
    "    inputStartDate.send_keys(Keys.BACKSPACE)\n",
    "    index += 1\n",
    "\n",
    "inputStartDate.send_keys(scrapDataDate)\n",
    "\n",
    "sleep(2)\n",
    "resetActionKey()"
   ]
  },
  {
   "cell_type": "code",
   "execution_count": 258,
   "metadata": {},
   "outputs": [],
   "source": [
    "# Handle the End Date\n",
    "sleep(1)\n",
    "inputEndDate = driver.find_element(By.ID, \"F41_EndDate\")\n",
    "inputEndDate.click()\n",
    "\n",
    "index = 0\n",
    "\n",
    "sleep(1)\n",
    "while index <= 2:\n",
    "    inputEndDate.send_keys(Keys.ARROW_RIGHT)\n",
    "    index += 1\n",
    "\n",
    "sleep(1)\n",
    "while index <= 12:\n",
    "    inputEndDate.send_keys(Keys.BACKSPACE)\n",
    "    index += 1\n",
    "\n",
    "inputEndDate.send_keys(scrapDataDate)\n",
    "\n",
    "sleep(2)\n",
    "resetActionKey()"
   ]
  },
  {
   "cell_type": "code",
   "execution_count": 259,
   "metadata": {},
   "outputs": [],
   "source": [
    "# Dowload button\n",
    "sleep(2)\n",
    "driver.find_element(By.ID, 'F41_CSV_button').click()"
   ]
  },
  {
   "cell_type": "code",
   "execution_count": 260,
   "metadata": {},
   "outputs": [],
   "source": [
    "# Waiting for the handling and dowload process\n",
    "sleep(60)"
   ]
  },
  {
   "cell_type": "code",
   "execution_count": 261,
   "metadata": {},
   "outputs": [],
   "source": [
    "# ----------------------- End Driver Report -----------------------"
   ]
  },
  {
   "cell_type": "code",
   "execution_count": 262,
   "metadata": {},
   "outputs": [],
   "source": [
    "# ----------------------- Start Driving Report by Vehicle -----------------------"
   ]
  },
  {
   "cell_type": "code",
   "execution_count": 266,
   "metadata": {},
   "outputs": [],
   "source": [
    "# Open Menu\n",
    "sleep(1)\n",
    "btn_menu = driver.find_element(By.CLASS_NAME, 'b_btn-menu')\n",
    "btn_menu.click()"
   ]
  },
  {
   "cell_type": "code",
   "execution_count": 267,
   "metadata": {},
   "outputs": [],
   "source": [
    "# Hover Function List\n",
    "sleep(1)\n",
    "function_list = driver.find_element(By.ID, 'F100')\n",
    "hover = ActionChains(driver).move_to_element(function_list)\n",
    "hover.perform()"
   ]
  },
  {
   "cell_type": "code",
   "execution_count": 268,
   "metadata": {},
   "outputs": [],
   "source": [
    "# Driving Report By Vehicle\n",
    "sleep(1)\n",
    "driving_report_by_vehicle = driver.find_element(By.XPATH, '//*[@id=\"F4C\"]')\n",
    "driving_report_by_vehicle.click()"
   ]
  },
  {
   "cell_type": "code",
   "execution_count": 269,
   "metadata": {},
   "outputs": [],
   "source": [
    "# Cancel button to ensure the menu is turn off\n",
    "sleep(10)\n",
    "resetActionKey()"
   ]
  },
  {
   "cell_type": "code",
   "execution_count": 270,
   "metadata": {},
   "outputs": [],
   "source": [
    "# Checkbox button\n",
    "sleep(5)\n",
    "checkbox = driver.find_element(By.XPATH, '//*[@id=\"F41_eigyousyoLevel_view\"]/li/div/span/div').click()"
   ]
  },
  {
   "cell_type": "code",
   "execution_count": 271,
   "metadata": {},
   "outputs": [],
   "source": [
    "# Handle the Start Date\n",
    "sleep(1)\n",
    "inputStartDate = driver.find_element(By.ID, \"F41_StartDate\")\n",
    "inputStartDate.click()\n",
    "\n",
    "index = 0\n",
    "\n",
    "sleep(1)\n",
    "while index <= 2:\n",
    "    inputStartDate.send_keys(Keys.ARROW_RIGHT)\n",
    "    index += 1\n",
    "\n",
    "sleep(1)\n",
    "while index <= 12:\n",
    "    inputStartDate.send_keys(Keys.BACKSPACE)\n",
    "    index += 1\n",
    "\n",
    "inputStartDate.send_keys(scrapDataDate)\n",
    "\n",
    "sleep(2)\n",
    "resetActionKey()"
   ]
  },
  {
   "cell_type": "code",
   "execution_count": 272,
   "metadata": {},
   "outputs": [],
   "source": [
    "# Handle the End Date\n",
    "sleep(1)\n",
    "inputEndDate = driver.find_element(By.ID, \"F41_EndDate\")\n",
    "inputEndDate.click()\n",
    "\n",
    "index = 0\n",
    "\n",
    "sleep(1)\n",
    "while index <= 2:\n",
    "    inputEndDate.send_keys(Keys.ARROW_RIGHT)\n",
    "    index += 1\n",
    "\n",
    "sleep(1)\n",
    "while index <= 12:\n",
    "    inputEndDate.send_keys(Keys.BACKSPACE)\n",
    "    index += 1\n",
    "\n",
    "inputEndDate.send_keys(scrapDataDate)\n",
    "\n",
    "sleep(2)\n",
    "resetActionKey()"
   ]
  },
  {
   "cell_type": "code",
   "execution_count": 273,
   "metadata": {},
   "outputs": [],
   "source": [
    "# Dowload button\n",
    "sleep(2)\n",
    "driver.find_element(By.ID, 'F41_CSV_button').click()"
   ]
  },
  {
   "cell_type": "code",
   "execution_count": 275,
   "metadata": {},
   "outputs": [],
   "source": [
    "# Waiting for the handling and dowload process\n",
    "sleep(60)"
   ]
  },
  {
   "cell_type": "code",
   "execution_count": 276,
   "metadata": {},
   "outputs": [],
   "source": [
    "# ----------------------- End Driving Report by Vehicle -----------------------"
   ]
  },
  {
   "cell_type": "code",
   "execution_count": 277,
   "metadata": {},
   "outputs": [],
   "source": [
    "# ----------------------- Start 拠点別集計表 -----------------------"
   ]
  },
  {
   "cell_type": "code",
   "execution_count": 278,
   "metadata": {},
   "outputs": [],
   "source": [
    "# Open Menu\n",
    "sleep(1)\n",
    "btn_menu = driver.find_element(By.CLASS_NAME, 'b_btn-menu')\n",
    "btn_menu.click()"
   ]
  },
  {
   "cell_type": "code",
   "execution_count": 279,
   "metadata": {},
   "outputs": [],
   "source": [
    "# Hover Function List\n",
    "sleep(1)\n",
    "function_list = driver.find_element(By.ID, 'F100')\n",
    "hover = ActionChains(driver).move_to_element(function_list)\n",
    "hover.perform()"
   ]
  },
  {
   "cell_type": "code",
   "execution_count": 280,
   "metadata": {},
   "outputs": [],
   "source": [
    "# 拠点別集計表\n",
    "sleep(1)\n",
    "拠点別集計表 = driver.find_element(By.XPATH, '//*[@id=\"P21\"]')\n",
    "拠点別集計表.click()"
   ]
  },
  {
   "cell_type": "code",
   "execution_count": 281,
   "metadata": {},
   "outputs": [],
   "source": [
    "# Cancel button to ensure the menu is turn off\n",
    "sleep(10)\n",
    "resetActionKey()"
   ]
  },
  {
   "cell_type": "code",
   "execution_count": 283,
   "metadata": {},
   "outputs": [],
   "source": [
    "# Checkbox button\n",
    "sleep(5)\n",
    "checkbox = driver.find_element(By.XPATH, '//*[@id=\"P21_eigyousyoLevel_view\"]/li/div/span/div').click()"
   ]
  },
  {
   "cell_type": "code",
   "execution_count": 284,
   "metadata": {},
   "outputs": [],
   "source": [
    "# Handle the Start Date\n",
    "sleep(1)\n",
    "inputStartDate = driver.find_element(By.ID, \"P21_StartDate\")\n",
    "inputStartDate.click()\n",
    "\n",
    "index = 0\n",
    "\n",
    "sleep(1)\n",
    "while index <= 2:\n",
    "    inputStartDate.send_keys(Keys.ARROW_RIGHT)\n",
    "    index += 1\n",
    "\n",
    "sleep(1)\n",
    "while index <= 12:\n",
    "    inputStartDate.send_keys(Keys.BACKSPACE)\n",
    "    index += 1\n",
    "\n",
    "inputStartDate.send_keys(scrapDataDate)\n",
    "\n",
    "sleep(2)\n",
    "resetActionKey()"
   ]
  },
  {
   "cell_type": "code",
   "execution_count": 285,
   "metadata": {},
   "outputs": [],
   "source": [
    "# Handle the End Date\n",
    "sleep(1)\n",
    "inputEndDate = driver.find_element(By.ID, \"P21_EndDate\")\n",
    "inputEndDate.click()\n",
    "\n",
    "index = 0\n",
    "\n",
    "sleep(1)\n",
    "while index <= 2:\n",
    "    inputEndDate.send_keys(Keys.ARROW_RIGHT)\n",
    "    index += 1\n",
    "\n",
    "sleep(1)\n",
    "while index <= 12:\n",
    "    inputEndDate.send_keys(Keys.BACKSPACE)\n",
    "    index += 1\n",
    "\n",
    "inputEndDate.send_keys(scrapDataDate)\n",
    "\n",
    "sleep(2)\n",
    "resetActionKey()"
   ]
  },
  {
   "cell_type": "code",
   "execution_count": 286,
   "metadata": {},
   "outputs": [],
   "source": [
    "# Dowload button\n",
    "sleep(2)\n",
    "driver.find_element(By.ID, 'P21_CSV_button').click()"
   ]
  },
  {
   "cell_type": "code",
   "execution_count": 287,
   "metadata": {},
   "outputs": [],
   "source": [
    "# Waiting for the handling and dowload process\n",
    "sleep(60)"
   ]
  },
  {
   "cell_type": "code",
   "execution_count": 288,
   "metadata": {},
   "outputs": [],
   "source": [
    "# ----------------------- End 拠点別集計表 -----------------------"
   ]
  },
  {
   "cell_type": "code",
   "execution_count": 289,
   "metadata": {},
   "outputs": [],
   "source": [
    "# ----------------------- Start 車両別安全評価実績表 -----------------------"
   ]
  },
  {
   "cell_type": "code",
   "execution_count": 290,
   "metadata": {},
   "outputs": [],
   "source": [
    "# Open Menu\n",
    "sleep(1)\n",
    "btn_menu = driver.find_element(By.CLASS_NAME, 'b_btn-menu')\n",
    "btn_menu.click()"
   ]
  },
  {
   "cell_type": "code",
   "execution_count": 291,
   "metadata": {},
   "outputs": [],
   "source": [
    "# Hover Function List\n",
    "sleep(1)\n",
    "function_list = driver.find_element(By.ID, 'F100')\n",
    "hover = ActionChains(driver).move_to_element(function_list)\n",
    "hover.perform()"
   ]
  },
  {
   "cell_type": "code",
   "execution_count": 292,
   "metadata": {},
   "outputs": [],
   "source": [
    "# 車両別安全評価実績表\n",
    "sleep(1)\n",
    "車両別安全評価実績表 = driver.find_element(By.XPATH, '//*[@id=\"F4G\"]')\n",
    "車両別安全評価実績表.click()"
   ]
  },
  {
   "cell_type": "code",
   "execution_count": 293,
   "metadata": {},
   "outputs": [],
   "source": [
    "# Cancel button to ensure the menu is turn off\n",
    "sleep(10)\n",
    "resetActionKey()"
   ]
  },
  {
   "cell_type": "code",
   "execution_count": null,
   "metadata": {},
   "outputs": [],
   "source": [
    "# Checkbox button\n",
    "sleep(5)\n",
    "checkbox = driver.find_element(By.XPATH, '//*[@id=\"F4G_eigyousyoLevel_view\"]/li/div/span/div').click()"
   ]
  },
  {
   "cell_type": "code",
   "execution_count": null,
   "metadata": {},
   "outputs": [],
   "source": [
    "# Remove 営業所毎にページを分けて印刷する checkbox\n",
    "sleep(5)\n",
    "last_checkbox = driver.find_element(By.XPATH, '//*[@id=\"F4G_main_form\"]/p[3]/div').click()"
   ]
  },
  {
   "cell_type": "code",
   "execution_count": null,
   "metadata": {},
   "outputs": [],
   "source": [
    "# Check 車両別安全評価実績表 （積算）\n",
    "sleep(5)\n",
    "second_checkbox = driver.find_element(By.XPATH, '//*[@id=\"F4G_main_form\"]/p[2]/div').click()"
   ]
  },
  {
   "cell_type": "code",
   "execution_count": null,
   "metadata": {},
   "outputs": [],
   "source": [
    "# Handle the Start Date\n",
    "sleep(1)\n",
    "inputStartDate = driver.find_element(By.ID, \"F4G_StartDate\")\n",
    "inputStartDate.click()\n",
    "\n",
    "index = 0\n",
    "\n",
    "sleep(1)\n",
    "while index <= 2:\n",
    "    inputStartDate.send_keys(Keys.ARROW_RIGHT)\n",
    "    index += 1\n",
    "\n",
    "sleep(1)\n",
    "while index <= 12:\n",
    "    inputStartDate.send_keys(Keys.BACKSPACE)\n",
    "    index += 1\n",
    "\n",
    "inputStartDate.send_keys(scrapDataDate)\n",
    "\n",
    "sleep(2)\n",
    "resetActionKey()"
   ]
  },
  {
   "cell_type": "code",
   "execution_count": null,
   "metadata": {},
   "outputs": [],
   "source": [
    "# Handle the End Date\n",
    "sleep(1)\n",
    "inputEndDate = driver.find_element(By.ID, \"F4G_EndDate\")\n",
    "inputEndDate.click()\n",
    "\n",
    "index = 0\n",
    "\n",
    "sleep(1)\n",
    "while index <= 2:\n",
    "    inputEndDate.send_keys(Keys.ARROW_RIGHT)\n",
    "    index += 1\n",
    "\n",
    "sleep(1)\n",
    "while index <= 12:\n",
    "    inputEndDate.send_keys(Keys.BACKSPACE)\n",
    "    index += 1\n",
    "\n",
    "inputEndDate.send_keys(scrapDataDate)\n",
    "\n",
    "sleep(2)\n",
    "resetActionKey()"
   ]
  },
  {
   "cell_type": "code",
   "execution_count": null,
   "metadata": {},
   "outputs": [],
   "source": [
    "# Dowload button\n",
    "sleep(2)\n",
    "driver.find_element(By.ID, 'F4G_CSV_button').click()"
   ]
  },
  {
   "cell_type": "code",
   "execution_count": null,
   "metadata": {},
   "outputs": [],
   "source": [
    "# Waiting for the handling and dowload process\n",
    "sleep(60)"
   ]
  },
  {
   "cell_type": "code",
   "execution_count": null,
   "metadata": {},
   "outputs": [],
   "source": [
    "# ----------------------- End 車両別安全評価実績表 -----------------------"
   ]
  },
  {
   "cell_type": "code",
   "execution_count": null,
   "metadata": {},
   "outputs": [],
   "source": [
    "# ----------------------- End Scrapper -----------------------"
   ]
  }
 ],
 "metadata": {
  "interpreter": {
   "hash": "7cec9ff813d324916502b577f120daa67d5c00aa44132d5e060520892a31b35b"
  },
  "kernelspec": {
   "display_name": "Python 3.10.0 64-bit",
   "language": "python",
   "name": "python3"
  },
  "language_info": {
   "codemirror_mode": {
    "name": "ipython",
    "version": 3
   },
   "file_extension": ".py",
   "mimetype": "text/x-python",
   "name": "python",
   "nbconvert_exporter": "python",
   "pygments_lexer": "ipython3",
   "version": "3.10.0"
  },
  "orig_nbformat": 4
 },
 "nbformat": 4,
 "nbformat_minor": 2
}
